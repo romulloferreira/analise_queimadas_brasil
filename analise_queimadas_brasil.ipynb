{
 "cells": [
  {
   "cell_type": "markdown",
   "metadata": {},
   "source": [
    "# Análise de dados de queimadas no Brasil"
   ]
  },
  {
   "cell_type": "markdown",
   "metadata": {},
   "source": [
    "#### Author: Romullo Ferreira"
   ]
  },
  {
   "cell_type": "markdown",
   "metadata": {},
   "source": [
    "O objetivo deste projeto é analisar os dados de queimadas/focos de incêndios no Brasil, que inclui as seguintes etapas:\n",
    "\n",
    "1. Business Questions (Business Understanding)\n",
    "2. Data wrangling \n",
    "    - 2.1. Gather\n",
    "    - 2.2. Assess\n",
    "    - 2.3. Prepare Data (Clean)\n",
    "3. Data exploration and visualization\n",
    "4. Data Modeling\n",
    "5. Conclusions."
   ]
  },
  {
   "cell_type": "markdown",
   "metadata": {},
   "source": [
    "Informações úteis sobre os dados:\n",
    "- 27 estados do Brasil\n",
    "- coluna diassemchuva: Número de dias sem chuva até a detecção do surto\n",
    "- coluna riscofogo: Valor de risco de incêndio previsto para o dia em que o foco é detectado\n",
    "- coluna precipitacao: Valor de precipitação acumulado no dia até o momento em que o surto é detectado\n",
    "- coluna frp: Fire Radiative Power, MW (megawatts)\n",
    "- Data da última coleta de dados: 31-03-2022\n",
    "- Fonte de dados: INPE. Brasil, 2020\n",
    "- Dados detalhados podem ser baixados em [basedosdados.org](https://basedosdados.org/en/dataset/banco-de-dados-de-queimadas)\n",
    "- Você também pode acessar o [INPE](https://queimadas.dgi.inpe.br//queimadas/dados-abertos/) para encontrar mais dados"
   ]
  },
  {
   "cell_type": "markdown",
   "metadata": {},
   "source": [
    "## 1. Business Questions (Business Understanding)"
   ]
  },
  {
   "cell_type": "markdown",
   "metadata": {},
   "source": [
    "Para este projeto, estava interessado em analisar a situação das queimadas no Brasil. \n",
    "\n",
    "Este projeto visa fazer análise e exploração dos dados e construção de algoritmos e modelos de aprendizagem de máquina que possam nos ajudar a entender os dados que foram coletados, descobrir padrões, responder perguntas e avaliar a capacidade de predi-zer o risco de queimadas no Brasil (bioma Amazônia) para datas futuras. "
   ]
  },
  {
   "cell_type": "markdown",
   "metadata": {},
   "source": [
    "## 2. Data wrangling"
   ]
  },
  {
   "cell_type": "markdown",
   "metadata": {},
   "source": [
    "## 2.1. Gather"
   ]
  },
  {
   "cell_type": "markdown",
   "metadata": {},
   "source": [
    "Primeiramente, vamos importar as bibliotecas necessárias para este projeto."
   ]
  },
  {
   "cell_type": "code",
   "execution_count": 1,
   "metadata": {},
   "outputs": [],
   "source": [
    "import pandas as pd\n",
    "import numpy as np\n",
    "\n",
    "import matplotlib.pyplot as plt\n",
    "import seaborn as sns\n",
    "%matplotlib inline\n",
    "import zipfile\n",
    "\n",
    "#from shapely.geometry import Point\n",
    "#import geopandas as gpd"
   ]
  },
  {
   "cell_type": "markdown",
   "metadata": {},
   "source": [
    "Importando o arquivo CSV"
   ]
  },
  {
   "cell_type": "code",
   "execution_count": 2,
   "metadata": {},
   "outputs": [],
   "source": [
    "df_queimadas = pd.read_csv('inpe_2019_2022.csv', sep=';')"
   ]
  },
  {
   "cell_type": "code",
   "execution_count": 3,
   "metadata": {},
   "outputs": [
    {
     "data": {
      "text/html": [
       "<div>\n",
       "<style scoped>\n",
       "    .dataframe tbody tr th:only-of-type {\n",
       "        vertical-align: middle;\n",
       "    }\n",
       "\n",
       "    .dataframe tbody tr th {\n",
       "        vertical-align: top;\n",
       "    }\n",
       "\n",
       "    .dataframe thead th {\n",
       "        text-align: right;\n",
       "    }\n",
       "</style>\n",
       "<table border=\"1\" class=\"dataframe\">\n",
       "  <thead>\n",
       "    <tr style=\"text-align: right;\">\n",
       "      <th></th>\n",
       "      <th>datahora</th>\n",
       "      <th>satelite</th>\n",
       "      <th>pais</th>\n",
       "      <th>estado</th>\n",
       "      <th>municipio</th>\n",
       "      <th>bioma</th>\n",
       "      <th>diasemchuva</th>\n",
       "      <th>precipitacao</th>\n",
       "      <th>riscofogo</th>\n",
       "      <th>latitude</th>\n",
       "      <th>longitude</th>\n",
       "      <th>frp</th>\n",
       "    </tr>\n",
       "  </thead>\n",
       "  <tbody>\n",
       "    <tr>\n",
       "      <th>0</th>\n",
       "      <td>15/08/2019 17:05:00</td>\n",
       "      <td>AQUA_M-T</td>\n",
       "      <td>Brasil</td>\n",
       "      <td>RIO GRANDE DO SUL</td>\n",
       "      <td>BOM JESUS</td>\n",
       "      <td>Mata Atlantica</td>\n",
       "      <td>3.0</td>\n",
       "      <td>0</td>\n",
       "      <td>0,3</td>\n",
       "      <td>-28,45</td>\n",
       "      <td>-50,526</td>\n",
       "      <td>31</td>\n",
       "    </tr>\n",
       "    <tr>\n",
       "      <th>1</th>\n",
       "      <td>15/08/2019 17:05:00</td>\n",
       "      <td>AQUA_M-T</td>\n",
       "      <td>Brasil</td>\n",
       "      <td>RIO GRANDE DO SUL</td>\n",
       "      <td>BOM JESUS</td>\n",
       "      <td>Mata Atlantica</td>\n",
       "      <td>2.0</td>\n",
       "      <td>0</td>\n",
       "      <td>0,3</td>\n",
       "      <td>-28,452</td>\n",
       "      <td>-50,315</td>\n",
       "      <td>7,2</td>\n",
       "    </tr>\n",
       "    <tr>\n",
       "      <th>2</th>\n",
       "      <td>15/08/2019 17:05:00</td>\n",
       "      <td>AQUA_M-T</td>\n",
       "      <td>Brasil</td>\n",
       "      <td>RIO GRANDE DO SUL</td>\n",
       "      <td>MUITOS CAPOES</td>\n",
       "      <td>Mata Atlantica</td>\n",
       "      <td>3.0</td>\n",
       "      <td>0</td>\n",
       "      <td>0,8</td>\n",
       "      <td>-28,456</td>\n",
       "      <td>-51,226</td>\n",
       "      <td>4,6</td>\n",
       "    </tr>\n",
       "    <tr>\n",
       "      <th>3</th>\n",
       "      <td>15/08/2019 17:05:00</td>\n",
       "      <td>AQUA_M-T</td>\n",
       "      <td>Brasil</td>\n",
       "      <td>RIO GRANDE DO SUL</td>\n",
       "      <td>BOM JESUS</td>\n",
       "      <td>Mata Atlantica</td>\n",
       "      <td>3.0</td>\n",
       "      <td>0</td>\n",
       "      <td>0,5</td>\n",
       "      <td>-28,471</td>\n",
       "      <td>-50,463</td>\n",
       "      <td>11,7</td>\n",
       "    </tr>\n",
       "    <tr>\n",
       "      <th>4</th>\n",
       "      <td>15/08/2019 17:05:00</td>\n",
       "      <td>AQUA_M-T</td>\n",
       "      <td>Brasil</td>\n",
       "      <td>RIO GRANDE DO SUL</td>\n",
       "      <td>BOM JESUS</td>\n",
       "      <td>Mata Atlantica</td>\n",
       "      <td>3.0</td>\n",
       "      <td>0</td>\n",
       "      <td>0,7</td>\n",
       "      <td>-28,473</td>\n",
       "      <td>-50,475</td>\n",
       "      <td>35</td>\n",
       "    </tr>\n",
       "  </tbody>\n",
       "</table>\n",
       "</div>"
      ],
      "text/plain": [
       "              datahora  satelite    pais             estado      municipio  \\\n",
       "0  15/08/2019 17:05:00  AQUA_M-T  Brasil  RIO GRANDE DO SUL      BOM JESUS   \n",
       "1  15/08/2019 17:05:00  AQUA_M-T  Brasil  RIO GRANDE DO SUL      BOM JESUS   \n",
       "2  15/08/2019 17:05:00  AQUA_M-T  Brasil  RIO GRANDE DO SUL  MUITOS CAPOES   \n",
       "3  15/08/2019 17:05:00  AQUA_M-T  Brasil  RIO GRANDE DO SUL      BOM JESUS   \n",
       "4  15/08/2019 17:05:00  AQUA_M-T  Brasil  RIO GRANDE DO SUL      BOM JESUS   \n",
       "\n",
       "            bioma  diasemchuva precipitacao riscofogo latitude longitude   frp  \n",
       "0  Mata Atlantica          3.0            0       0,3   -28,45   -50,526    31  \n",
       "1  Mata Atlantica          2.0            0       0,3  -28,452   -50,315   7,2  \n",
       "2  Mata Atlantica          3.0            0       0,8  -28,456   -51,226   4,6  \n",
       "3  Mata Atlantica          3.0            0       0,5  -28,471   -50,463  11,7  \n",
       "4  Mata Atlantica          3.0            0       0,7  -28,473   -50,475    35  "
      ]
     },
     "execution_count": 3,
     "metadata": {},
     "output_type": "execute_result"
    }
   ],
   "source": [
    "df_queimadas.head()"
   ]
  },
  {
   "cell_type": "markdown",
   "metadata": {},
   "source": [
    "## 2.2. Assess"
   ]
  },
  {
   "cell_type": "markdown",
   "metadata": {},
   "source": [
    "Aqui nós podemos ver o tamanho original do nosso dataset inicial, 609201 linhas e 12 colunas."
   ]
  },
  {
   "cell_type": "code",
   "execution_count": 4,
   "metadata": {},
   "outputs": [
    {
     "data": {
      "text/plain": [
       "(609201, 12)"
      ]
     },
     "execution_count": 4,
     "metadata": {},
     "output_type": "execute_result"
    }
   ],
   "source": [
    "df_queimadas.shape"
   ]
  },
  {
   "cell_type": "markdown",
   "metadata": {},
   "source": [
    "Vamos contar os valores unicos."
   ]
  },
  {
   "cell_type": "code",
   "execution_count": 5,
   "metadata": {},
   "outputs": [
    {
     "data": {
      "text/plain": [
       "datahora          5133\n",
       "satelite             1\n",
       "pais                 1\n",
       "estado              27\n",
       "municipio         4950\n",
       "bioma                6\n",
       "diasemchuva        122\n",
       "precipitacao       605\n",
       "riscofogo           12\n",
       "latitude        185360\n",
       "longitude       189542\n",
       "frp              10397\n",
       "dtype: int64"
      ]
     },
     "execution_count": 5,
     "metadata": {},
     "output_type": "execute_result"
    }
   ],
   "source": [
    "df_queimadas.nunique()"
   ]
  },
  {
   "cell_type": "markdown",
   "metadata": {},
   "source": [
    "Vamos dar uma olhada melhor em nosso DataFrame"
   ]
  },
  {
   "cell_type": "code",
   "execution_count": 6,
   "metadata": {},
   "outputs": [
    {
     "data": {
      "text/html": [
       "<div>\n",
       "<style scoped>\n",
       "    .dataframe tbody tr th:only-of-type {\n",
       "        vertical-align: middle;\n",
       "    }\n",
       "\n",
       "    .dataframe tbody tr th {\n",
       "        vertical-align: top;\n",
       "    }\n",
       "\n",
       "    .dataframe thead th {\n",
       "        text-align: right;\n",
       "    }\n",
       "</style>\n",
       "<table border=\"1\" class=\"dataframe\">\n",
       "  <thead>\n",
       "    <tr style=\"text-align: right;\">\n",
       "      <th></th>\n",
       "      <th>datahora</th>\n",
       "      <th>satelite</th>\n",
       "      <th>pais</th>\n",
       "      <th>estado</th>\n",
       "      <th>municipio</th>\n",
       "      <th>bioma</th>\n",
       "      <th>diasemchuva</th>\n",
       "      <th>precipitacao</th>\n",
       "      <th>riscofogo</th>\n",
       "      <th>latitude</th>\n",
       "      <th>longitude</th>\n",
       "      <th>frp</th>\n",
       "    </tr>\n",
       "  </thead>\n",
       "  <tbody>\n",
       "    <tr>\n",
       "      <th>0</th>\n",
       "      <td>15/08/2019 17:05:00</td>\n",
       "      <td>AQUA_M-T</td>\n",
       "      <td>Brasil</td>\n",
       "      <td>RIO GRANDE DO SUL</td>\n",
       "      <td>BOM JESUS</td>\n",
       "      <td>Mata Atlantica</td>\n",
       "      <td>3.0</td>\n",
       "      <td>0</td>\n",
       "      <td>0,3</td>\n",
       "      <td>-28,45</td>\n",
       "      <td>-50,526</td>\n",
       "      <td>31</td>\n",
       "    </tr>\n",
       "    <tr>\n",
       "      <th>1</th>\n",
       "      <td>15/08/2019 17:05:00</td>\n",
       "      <td>AQUA_M-T</td>\n",
       "      <td>Brasil</td>\n",
       "      <td>RIO GRANDE DO SUL</td>\n",
       "      <td>BOM JESUS</td>\n",
       "      <td>Mata Atlantica</td>\n",
       "      <td>2.0</td>\n",
       "      <td>0</td>\n",
       "      <td>0,3</td>\n",
       "      <td>-28,452</td>\n",
       "      <td>-50,315</td>\n",
       "      <td>7,2</td>\n",
       "    </tr>\n",
       "    <tr>\n",
       "      <th>2</th>\n",
       "      <td>15/08/2019 17:05:00</td>\n",
       "      <td>AQUA_M-T</td>\n",
       "      <td>Brasil</td>\n",
       "      <td>RIO GRANDE DO SUL</td>\n",
       "      <td>MUITOS CAPOES</td>\n",
       "      <td>Mata Atlantica</td>\n",
       "      <td>3.0</td>\n",
       "      <td>0</td>\n",
       "      <td>0,8</td>\n",
       "      <td>-28,456</td>\n",
       "      <td>-51,226</td>\n",
       "      <td>4,6</td>\n",
       "    </tr>\n",
       "    <tr>\n",
       "      <th>3</th>\n",
       "      <td>15/08/2019 17:05:00</td>\n",
       "      <td>AQUA_M-T</td>\n",
       "      <td>Brasil</td>\n",
       "      <td>RIO GRANDE DO SUL</td>\n",
       "      <td>BOM JESUS</td>\n",
       "      <td>Mata Atlantica</td>\n",
       "      <td>3.0</td>\n",
       "      <td>0</td>\n",
       "      <td>0,5</td>\n",
       "      <td>-28,471</td>\n",
       "      <td>-50,463</td>\n",
       "      <td>11,7</td>\n",
       "    </tr>\n",
       "    <tr>\n",
       "      <th>4</th>\n",
       "      <td>15/08/2019 17:05:00</td>\n",
       "      <td>AQUA_M-T</td>\n",
       "      <td>Brasil</td>\n",
       "      <td>RIO GRANDE DO SUL</td>\n",
       "      <td>BOM JESUS</td>\n",
       "      <td>Mata Atlantica</td>\n",
       "      <td>3.0</td>\n",
       "      <td>0</td>\n",
       "      <td>0,7</td>\n",
       "      <td>-28,473</td>\n",
       "      <td>-50,475</td>\n",
       "      <td>35</td>\n",
       "    </tr>\n",
       "    <tr>\n",
       "      <th>5</th>\n",
       "      <td>15/08/2019 17:05:00</td>\n",
       "      <td>AQUA_M-T</td>\n",
       "      <td>Brasil</td>\n",
       "      <td>RIO GRANDE DO SUL</td>\n",
       "      <td>BOM JESUS</td>\n",
       "      <td>Mata Atlantica</td>\n",
       "      <td>2.0</td>\n",
       "      <td>0</td>\n",
       "      <td>0,5</td>\n",
       "      <td>-28,549</td>\n",
       "      <td>-50,35</td>\n",
       "      <td>3,8</td>\n",
       "    </tr>\n",
       "    <tr>\n",
       "      <th>6</th>\n",
       "      <td>15/08/2019 17:05:00</td>\n",
       "      <td>AQUA_M-T</td>\n",
       "      <td>Brasil</td>\n",
       "      <td>RIO GRANDE DO SUL</td>\n",
       "      <td>CRUZ ALTA</td>\n",
       "      <td>Mata Atlantica</td>\n",
       "      <td>3.0</td>\n",
       "      <td>0</td>\n",
       "      <td>0,5</td>\n",
       "      <td>-28,549</td>\n",
       "      <td>-53,556</td>\n",
       "      <td>11,4</td>\n",
       "    </tr>\n",
       "    <tr>\n",
       "      <th>7</th>\n",
       "      <td>15/08/2019 17:05:00</td>\n",
       "      <td>AQUA_M-T</td>\n",
       "      <td>Brasil</td>\n",
       "      <td>RIO GRANDE DO SUL</td>\n",
       "      <td>SAO JOSE DOS AUSENTES</td>\n",
       "      <td>Mata Atlantica</td>\n",
       "      <td>2.0</td>\n",
       "      <td>0</td>\n",
       "      <td>0,2</td>\n",
       "      <td>-28,552</td>\n",
       "      <td>-49,967</td>\n",
       "      <td>5,7</td>\n",
       "    </tr>\n",
       "    <tr>\n",
       "      <th>8</th>\n",
       "      <td>15/08/2019 17:05:00</td>\n",
       "      <td>AQUA_M-T</td>\n",
       "      <td>Brasil</td>\n",
       "      <td>RIO GRANDE DO SUL</td>\n",
       "      <td>CRUZ ALTA</td>\n",
       "      <td>Mata Atlantica</td>\n",
       "      <td>3.0</td>\n",
       "      <td>0</td>\n",
       "      <td>0,5</td>\n",
       "      <td>-28,559</td>\n",
       "      <td>-53,567</td>\n",
       "      <td>8,3</td>\n",
       "    </tr>\n",
       "    <tr>\n",
       "      <th>9</th>\n",
       "      <td>15/08/2019 17:05:00</td>\n",
       "      <td>AQUA_M-T</td>\n",
       "      <td>Brasil</td>\n",
       "      <td>RIO GRANDE DO SUL</td>\n",
       "      <td>SAO JOSE DOS AUSENTES</td>\n",
       "      <td>Mata Atlantica</td>\n",
       "      <td>2.0</td>\n",
       "      <td>0</td>\n",
       "      <td>0,2</td>\n",
       "      <td>-28,561</td>\n",
       "      <td>-49,965</td>\n",
       "      <td>6,4</td>\n",
       "    </tr>\n",
       "  </tbody>\n",
       "</table>\n",
       "</div>"
      ],
      "text/plain": [
       "              datahora  satelite    pais             estado  \\\n",
       "0  15/08/2019 17:05:00  AQUA_M-T  Brasil  RIO GRANDE DO SUL   \n",
       "1  15/08/2019 17:05:00  AQUA_M-T  Brasil  RIO GRANDE DO SUL   \n",
       "2  15/08/2019 17:05:00  AQUA_M-T  Brasil  RIO GRANDE DO SUL   \n",
       "3  15/08/2019 17:05:00  AQUA_M-T  Brasil  RIO GRANDE DO SUL   \n",
       "4  15/08/2019 17:05:00  AQUA_M-T  Brasil  RIO GRANDE DO SUL   \n",
       "5  15/08/2019 17:05:00  AQUA_M-T  Brasil  RIO GRANDE DO SUL   \n",
       "6  15/08/2019 17:05:00  AQUA_M-T  Brasil  RIO GRANDE DO SUL   \n",
       "7  15/08/2019 17:05:00  AQUA_M-T  Brasil  RIO GRANDE DO SUL   \n",
       "8  15/08/2019 17:05:00  AQUA_M-T  Brasil  RIO GRANDE DO SUL   \n",
       "9  15/08/2019 17:05:00  AQUA_M-T  Brasil  RIO GRANDE DO SUL   \n",
       "\n",
       "               municipio           bioma  diasemchuva precipitacao riscofogo  \\\n",
       "0              BOM JESUS  Mata Atlantica          3.0            0       0,3   \n",
       "1              BOM JESUS  Mata Atlantica          2.0            0       0,3   \n",
       "2          MUITOS CAPOES  Mata Atlantica          3.0            0       0,8   \n",
       "3              BOM JESUS  Mata Atlantica          3.0            0       0,5   \n",
       "4              BOM JESUS  Mata Atlantica          3.0            0       0,7   \n",
       "5              BOM JESUS  Mata Atlantica          2.0            0       0,5   \n",
       "6              CRUZ ALTA  Mata Atlantica          3.0            0       0,5   \n",
       "7  SAO JOSE DOS AUSENTES  Mata Atlantica          2.0            0       0,2   \n",
       "8              CRUZ ALTA  Mata Atlantica          3.0            0       0,5   \n",
       "9  SAO JOSE DOS AUSENTES  Mata Atlantica          2.0            0       0,2   \n",
       "\n",
       "  latitude longitude   frp  \n",
       "0   -28,45   -50,526    31  \n",
       "1  -28,452   -50,315   7,2  \n",
       "2  -28,456   -51,226   4,6  \n",
       "3  -28,471   -50,463  11,7  \n",
       "4  -28,473   -50,475    35  \n",
       "5  -28,549    -50,35   3,8  \n",
       "6  -28,549   -53,556  11,4  \n",
       "7  -28,552   -49,967   5,7  \n",
       "8  -28,559   -53,567   8,3  \n",
       "9  -28,561   -49,965   6,4  "
      ]
     },
     "execution_count": 6,
     "metadata": {},
     "output_type": "execute_result"
    }
   ],
   "source": [
    "df_queimadas.head(10)"
   ]
  },
  {
   "cell_type": "code",
   "execution_count": 7,
   "metadata": {},
   "outputs": [
    {
     "data": {
      "text/plain": [
       "0         False\n",
       "1         False\n",
       "2         False\n",
       "3         False\n",
       "4         False\n",
       "          ...  \n",
       "609196    False\n",
       "609197    False\n",
       "609198    False\n",
       "609199    False\n",
       "609200    False\n",
       "Length: 609201, dtype: bool"
      ]
     },
     "execution_count": 7,
     "metadata": {},
     "output_type": "execute_result"
    }
   ],
   "source": [
    "df_queimadas.duplicated()"
   ]
  },
  {
   "cell_type": "code",
   "execution_count": 8,
   "metadata": {},
   "outputs": [
    {
     "data": {
      "text/plain": [
       "0"
      ]
     },
     "execution_count": 8,
     "metadata": {},
     "output_type": "execute_result"
    }
   ],
   "source": [
    "sum(df_queimadas.duplicated())"
   ]
  },
  {
   "cell_type": "markdown",
   "metadata": {},
   "source": [
    "Nenhum dados duplicados"
   ]
  },
  {
   "cell_type": "code",
   "execution_count": 9,
   "metadata": {},
   "outputs": [
    {
     "name": "stdout",
     "output_type": "stream",
     "text": [
      "<class 'pandas.core.frame.DataFrame'>\n",
      "RangeIndex: 609201 entries, 0 to 609200\n",
      "Data columns (total 12 columns):\n",
      " #   Column        Non-Null Count   Dtype  \n",
      "---  ------        --------------   -----  \n",
      " 0   datahora      609200 non-null  object \n",
      " 1   satelite      609200 non-null  object \n",
      " 2   pais          609200 non-null  object \n",
      " 3   estado        609200 non-null  object \n",
      " 4   municipio     609200 non-null  object \n",
      " 5   bioma         609200 non-null  object \n",
      " 6   diasemchuva   589780 non-null  float64\n",
      " 7   precipitacao  589780 non-null  object \n",
      " 8   riscofogo     589780 non-null  object \n",
      " 9   latitude      609200 non-null  object \n",
      " 10  longitude     609200 non-null  object \n",
      " 11  frp           606567 non-null  object \n",
      "dtypes: float64(1), object(11)\n",
      "memory usage: 55.8+ MB\n"
     ]
    }
   ],
   "source": [
    "#Algumas informações adicionais\n",
    "df_queimadas.info()"
   ]
  },
  {
   "cell_type": "code",
   "execution_count": 10,
   "metadata": {},
   "outputs": [
    {
     "data": {
      "text/plain": [
       "datahora         object\n",
       "satelite         object\n",
       "pais             object\n",
       "estado           object\n",
       "municipio        object\n",
       "bioma            object\n",
       "diasemchuva     float64\n",
       "precipitacao     object\n",
       "riscofogo        object\n",
       "latitude         object\n",
       "longitude        object\n",
       "frp              object\n",
       "dtype: object"
      ]
     },
     "execution_count": 10,
     "metadata": {},
     "output_type": "execute_result"
    }
   ],
   "source": [
    "df_queimadas.dtypes"
   ]
  },
  {
   "cell_type": "code",
   "execution_count": 11,
   "metadata": {},
   "outputs": [
    {
     "data": {
      "text/html": [
       "<div>\n",
       "<style scoped>\n",
       "    .dataframe tbody tr th:only-of-type {\n",
       "        vertical-align: middle;\n",
       "    }\n",
       "\n",
       "    .dataframe tbody tr th {\n",
       "        vertical-align: top;\n",
       "    }\n",
       "\n",
       "    .dataframe thead th {\n",
       "        text-align: right;\n",
       "    }\n",
       "</style>\n",
       "<table border=\"1\" class=\"dataframe\">\n",
       "  <thead>\n",
       "    <tr style=\"text-align: right;\">\n",
       "      <th></th>\n",
       "      <th>datahora</th>\n",
       "      <th>satelite</th>\n",
       "      <th>pais</th>\n",
       "      <th>estado</th>\n",
       "      <th>municipio</th>\n",
       "      <th>bioma</th>\n",
       "      <th>diasemchuva</th>\n",
       "      <th>precipitacao</th>\n",
       "      <th>riscofogo</th>\n",
       "      <th>latitude</th>\n",
       "      <th>longitude</th>\n",
       "      <th>frp</th>\n",
       "    </tr>\n",
       "  </thead>\n",
       "  <tbody>\n",
       "    <tr>\n",
       "      <th>0</th>\n",
       "      <td>15/08/2019 17:05:00</td>\n",
       "      <td>AQUA_M-T</td>\n",
       "      <td>Brasil</td>\n",
       "      <td>RIO GRANDE DO SUL</td>\n",
       "      <td>BOM JESUS</td>\n",
       "      <td>Mata Atlantica</td>\n",
       "      <td>3.0</td>\n",
       "      <td>0</td>\n",
       "      <td>0,3</td>\n",
       "      <td>-28,45</td>\n",
       "      <td>-50,526</td>\n",
       "      <td>31</td>\n",
       "    </tr>\n",
       "    <tr>\n",
       "      <th>1</th>\n",
       "      <td>15/08/2019 17:05:00</td>\n",
       "      <td>AQUA_M-T</td>\n",
       "      <td>Brasil</td>\n",
       "      <td>RIO GRANDE DO SUL</td>\n",
       "      <td>BOM JESUS</td>\n",
       "      <td>Mata Atlantica</td>\n",
       "      <td>2.0</td>\n",
       "      <td>0</td>\n",
       "      <td>0,3</td>\n",
       "      <td>-28,452</td>\n",
       "      <td>-50,315</td>\n",
       "      <td>7,2</td>\n",
       "    </tr>\n",
       "    <tr>\n",
       "      <th>2</th>\n",
       "      <td>15/08/2019 17:05:00</td>\n",
       "      <td>AQUA_M-T</td>\n",
       "      <td>Brasil</td>\n",
       "      <td>RIO GRANDE DO SUL</td>\n",
       "      <td>MUITOS CAPOES</td>\n",
       "      <td>Mata Atlantica</td>\n",
       "      <td>3.0</td>\n",
       "      <td>0</td>\n",
       "      <td>0,8</td>\n",
       "      <td>-28,456</td>\n",
       "      <td>-51,226</td>\n",
       "      <td>4,6</td>\n",
       "    </tr>\n",
       "    <tr>\n",
       "      <th>3</th>\n",
       "      <td>15/08/2019 17:05:00</td>\n",
       "      <td>AQUA_M-T</td>\n",
       "      <td>Brasil</td>\n",
       "      <td>RIO GRANDE DO SUL</td>\n",
       "      <td>BOM JESUS</td>\n",
       "      <td>Mata Atlantica</td>\n",
       "      <td>3.0</td>\n",
       "      <td>0</td>\n",
       "      <td>0,5</td>\n",
       "      <td>-28,471</td>\n",
       "      <td>-50,463</td>\n",
       "      <td>11,7</td>\n",
       "    </tr>\n",
       "    <tr>\n",
       "      <th>4</th>\n",
       "      <td>15/08/2019 17:05:00</td>\n",
       "      <td>AQUA_M-T</td>\n",
       "      <td>Brasil</td>\n",
       "      <td>RIO GRANDE DO SUL</td>\n",
       "      <td>BOM JESUS</td>\n",
       "      <td>Mata Atlantica</td>\n",
       "      <td>3.0</td>\n",
       "      <td>0</td>\n",
       "      <td>0,7</td>\n",
       "      <td>-28,473</td>\n",
       "      <td>-50,475</td>\n",
       "      <td>35</td>\n",
       "    </tr>\n",
       "  </tbody>\n",
       "</table>\n",
       "</div>"
      ],
      "text/plain": [
       "              datahora  satelite    pais             estado      municipio  \\\n",
       "0  15/08/2019 17:05:00  AQUA_M-T  Brasil  RIO GRANDE DO SUL      BOM JESUS   \n",
       "1  15/08/2019 17:05:00  AQUA_M-T  Brasil  RIO GRANDE DO SUL      BOM JESUS   \n",
       "2  15/08/2019 17:05:00  AQUA_M-T  Brasil  RIO GRANDE DO SUL  MUITOS CAPOES   \n",
       "3  15/08/2019 17:05:00  AQUA_M-T  Brasil  RIO GRANDE DO SUL      BOM JESUS   \n",
       "4  15/08/2019 17:05:00  AQUA_M-T  Brasil  RIO GRANDE DO SUL      BOM JESUS   \n",
       "\n",
       "            bioma  diasemchuva precipitacao riscofogo latitude longitude   frp  \n",
       "0  Mata Atlantica          3.0            0       0,3   -28,45   -50,526    31  \n",
       "1  Mata Atlantica          2.0            0       0,3  -28,452   -50,315   7,2  \n",
       "2  Mata Atlantica          3.0            0       0,8  -28,456   -51,226   4,6  \n",
       "3  Mata Atlantica          3.0            0       0,5  -28,471   -50,463  11,7  \n",
       "4  Mata Atlantica          3.0            0       0,7  -28,473   -50,475    35  "
      ]
     },
     "execution_count": 11,
     "metadata": {},
     "output_type": "execute_result"
    }
   ],
   "source": [
    "df_queimadas.head(5)"
   ]
  },
  {
   "cell_type": "markdown",
   "metadata": {},
   "source": [
    "Descobrindo se existe dados nulos."
   ]
  },
  {
   "cell_type": "code",
   "execution_count": 12,
   "metadata": {},
   "outputs": [
    {
     "data": {
      "text/plain": [
       "datahora            1\n",
       "satelite            1\n",
       "pais                1\n",
       "estado              1\n",
       "municipio           1\n",
       "bioma               1\n",
       "diasemchuva     19421\n",
       "precipitacao    19421\n",
       "riscofogo       19421\n",
       "latitude            1\n",
       "longitude           1\n",
       "frp              2634\n",
       "dtype: int64"
      ]
     },
     "execution_count": 12,
     "metadata": {},
     "output_type": "execute_result"
    }
   ],
   "source": [
    "df_queimadas.isnull().sum()"
   ]
  },
  {
   "cell_type": "code",
   "execution_count": 13,
   "metadata": {},
   "outputs": [
    {
     "data": {
      "text/html": [
       "<div>\n",
       "<style scoped>\n",
       "    .dataframe tbody tr th:only-of-type {\n",
       "        vertical-align: middle;\n",
       "    }\n",
       "\n",
       "    .dataframe tbody tr th {\n",
       "        vertical-align: top;\n",
       "    }\n",
       "\n",
       "    .dataframe thead th {\n",
       "        text-align: right;\n",
       "    }\n",
       "</style>\n",
       "<table border=\"1\" class=\"dataframe\">\n",
       "  <thead>\n",
       "    <tr style=\"text-align: right;\">\n",
       "      <th></th>\n",
       "      <th>datahora</th>\n",
       "      <th>satelite</th>\n",
       "      <th>pais</th>\n",
       "      <th>estado</th>\n",
       "      <th>municipio</th>\n",
       "      <th>bioma</th>\n",
       "      <th>diasemchuva</th>\n",
       "      <th>precipitacao</th>\n",
       "      <th>riscofogo</th>\n",
       "      <th>latitude</th>\n",
       "      <th>longitude</th>\n",
       "      <th>frp</th>\n",
       "    </tr>\n",
       "  </thead>\n",
       "  <tbody>\n",
       "    <tr>\n",
       "      <th>509476</th>\n",
       "      <td>13/08/2021 17:05:00</td>\n",
       "      <td>AQUA_M-T</td>\n",
       "      <td>Brasil</td>\n",
       "      <td>PARA</td>\n",
       "      <td>NOVO PROGRESSO</td>\n",
       "      <td>Amazonia</td>\n",
       "      <td>10.0</td>\n",
       "      <td>0,1</td>\n",
       "      <td>0,9</td>\n",
       "      <td>-7,49977</td>\n",
       "      <td>-55,35957</td>\n",
       "      <td>14,8</td>\n",
       "    </tr>\n",
       "    <tr>\n",
       "      <th>581432</th>\n",
       "      <td>22/09/2021 16:11:00</td>\n",
       "      <td>AQUA_M-T</td>\n",
       "      <td>Brasil</td>\n",
       "      <td>MINAS GERAIS</td>\n",
       "      <td>PEDRO LEOPOLDO</td>\n",
       "      <td>Cerrado</td>\n",
       "      <td>7.0</td>\n",
       "      <td>0,1</td>\n",
       "      <td>1</td>\n",
       "      <td>-19,51256</td>\n",
       "      <td>-43,94845</td>\n",
       "      <td>59,1</td>\n",
       "    </tr>\n",
       "    <tr>\n",
       "      <th>425533</th>\n",
       "      <td>03/09/2020 17:50:00</td>\n",
       "      <td>AQUA_M-T</td>\n",
       "      <td>Brasil</td>\n",
       "      <td>MATO GROSSO</td>\n",
       "      <td>JUINA</td>\n",
       "      <td>Cerrado</td>\n",
       "      <td>81.0</td>\n",
       "      <td>0</td>\n",
       "      <td>1</td>\n",
       "      <td>-12,148</td>\n",
       "      <td>-59,877</td>\n",
       "      <td>48,2</td>\n",
       "    </tr>\n",
       "    <tr>\n",
       "      <th>290281</th>\n",
       "      <td>11/08/2020 17:45:00</td>\n",
       "      <td>AQUA_M-T</td>\n",
       "      <td>Brasil</td>\n",
       "      <td>AMAZONAS</td>\n",
       "      <td>APUI</td>\n",
       "      <td>Amazonia</td>\n",
       "      <td>29.0</td>\n",
       "      <td>0,1</td>\n",
       "      <td>0,8</td>\n",
       "      <td>-7,04</td>\n",
       "      <td>-60,075</td>\n",
       "      <td>130,7</td>\n",
       "    </tr>\n",
       "    <tr>\n",
       "      <th>415453</th>\n",
       "      <td>06/10/2021 16:33:00</td>\n",
       "      <td>AQUA_M-T</td>\n",
       "      <td>Brasil</td>\n",
       "      <td>AMAPA</td>\n",
       "      <td>AMAPA</td>\n",
       "      <td>Amazonia</td>\n",
       "      <td>NaN</td>\n",
       "      <td>NaN</td>\n",
       "      <td>NaN</td>\n",
       "      <td>2,04236</td>\n",
       "      <td>-50,96959</td>\n",
       "      <td>23,1</td>\n",
       "    </tr>\n",
       "    <tr>\n",
       "      <th>267569</th>\n",
       "      <td>17/08/2020 17:01:39</td>\n",
       "      <td>AQUA_M-T</td>\n",
       "      <td>Brasil</td>\n",
       "      <td>PARA</td>\n",
       "      <td>JACAREACANGA</td>\n",
       "      <td>Amazonia</td>\n",
       "      <td>6.0</td>\n",
       "      <td>0</td>\n",
       "      <td>1</td>\n",
       "      <td>-6,021396861</td>\n",
       "      <td>-57,744430583</td>\n",
       "      <td>NaN</td>\n",
       "    </tr>\n",
       "    <tr>\n",
       "      <th>251090</th>\n",
       "      <td>31/07/2020 16:25:00</td>\n",
       "      <td>AQUA_M-T</td>\n",
       "      <td>Brasil</td>\n",
       "      <td>PARA</td>\n",
       "      <td>PACAJA</td>\n",
       "      <td>Amazonia</td>\n",
       "      <td>17.0</td>\n",
       "      <td>0</td>\n",
       "      <td>0,6</td>\n",
       "      <td>-3,83</td>\n",
       "      <td>-49,977</td>\n",
       "      <td>42,8</td>\n",
       "    </tr>\n",
       "    <tr>\n",
       "      <th>170352</th>\n",
       "      <td>26/08/2019 16:50:00</td>\n",
       "      <td>AQUA_M-T</td>\n",
       "      <td>Brasil</td>\n",
       "      <td>MARANHAO</td>\n",
       "      <td>LORETO</td>\n",
       "      <td>Cerrado</td>\n",
       "      <td>48.0</td>\n",
       "      <td>0</td>\n",
       "      <td>1</td>\n",
       "      <td>-7,486</td>\n",
       "      <td>-45,297</td>\n",
       "      <td>14</td>\n",
       "    </tr>\n",
       "    <tr>\n",
       "      <th>223350</th>\n",
       "      <td>04/11/2019 16:15:00</td>\n",
       "      <td>AQUA_M-T</td>\n",
       "      <td>Brasil</td>\n",
       "      <td>CEARA</td>\n",
       "      <td>BANABUIU</td>\n",
       "      <td>Caatinga</td>\n",
       "      <td>48.0</td>\n",
       "      <td>0,7</td>\n",
       "      <td>1</td>\n",
       "      <td>-5,394</td>\n",
       "      <td>-38,926</td>\n",
       "      <td>27,5</td>\n",
       "    </tr>\n",
       "    <tr>\n",
       "      <th>47702</th>\n",
       "      <td>12/08/2019 16:40:00</td>\n",
       "      <td>AQUA_M-T</td>\n",
       "      <td>Brasil</td>\n",
       "      <td>PARA</td>\n",
       "      <td>SAO FELIX DO XINGU</td>\n",
       "      <td>Amazonia</td>\n",
       "      <td>6.0</td>\n",
       "      <td>0</td>\n",
       "      <td>0,8</td>\n",
       "      <td>-6,496</td>\n",
       "      <td>-52,804</td>\n",
       "      <td>54</td>\n",
       "    </tr>\n",
       "  </tbody>\n",
       "</table>\n",
       "</div>"
      ],
      "text/plain": [
       "                   datahora  satelite    pais        estado  \\\n",
       "509476  13/08/2021 17:05:00  AQUA_M-T  Brasil          PARA   \n",
       "581432  22/09/2021 16:11:00  AQUA_M-T  Brasil  MINAS GERAIS   \n",
       "425533  03/09/2020 17:50:00  AQUA_M-T  Brasil   MATO GROSSO   \n",
       "290281  11/08/2020 17:45:00  AQUA_M-T  Brasil      AMAZONAS   \n",
       "415453  06/10/2021 16:33:00  AQUA_M-T  Brasil         AMAPA   \n",
       "267569  17/08/2020 17:01:39  AQUA_M-T  Brasil          PARA   \n",
       "251090  31/07/2020 16:25:00  AQUA_M-T  Brasil          PARA   \n",
       "170352  26/08/2019 16:50:00  AQUA_M-T  Brasil      MARANHAO   \n",
       "223350  04/11/2019 16:15:00  AQUA_M-T  Brasil         CEARA   \n",
       "47702   12/08/2019 16:40:00  AQUA_M-T  Brasil          PARA   \n",
       "\n",
       "                 municipio     bioma  diasemchuva precipitacao riscofogo  \\\n",
       "509476      NOVO PROGRESSO  Amazonia         10.0          0,1       0,9   \n",
       "581432      PEDRO LEOPOLDO   Cerrado          7.0          0,1         1   \n",
       "425533               JUINA   Cerrado         81.0            0         1   \n",
       "290281                APUI  Amazonia         29.0          0,1       0,8   \n",
       "415453               AMAPA  Amazonia          NaN          NaN       NaN   \n",
       "267569        JACAREACANGA  Amazonia          6.0            0         1   \n",
       "251090              PACAJA  Amazonia         17.0            0       0,6   \n",
       "170352              LORETO   Cerrado         48.0            0         1   \n",
       "223350            BANABUIU  Caatinga         48.0          0,7         1   \n",
       "47702   SAO FELIX DO XINGU  Amazonia          6.0            0       0,8   \n",
       "\n",
       "            latitude      longitude    frp  \n",
       "509476      -7,49977      -55,35957   14,8  \n",
       "581432     -19,51256      -43,94845   59,1  \n",
       "425533       -12,148        -59,877   48,2  \n",
       "290281         -7,04        -60,075  130,7  \n",
       "415453       2,04236      -50,96959   23,1  \n",
       "267569  -6,021396861  -57,744430583    NaN  \n",
       "251090         -3,83        -49,977   42,8  \n",
       "170352        -7,486        -45,297     14  \n",
       "223350        -5,394        -38,926   27,5  \n",
       "47702         -6,496        -52,804     54  "
      ]
     },
     "execution_count": 13,
     "metadata": {},
     "output_type": "execute_result"
    }
   ],
   "source": [
    "df_queimadas.sample(10)"
   ]
  },
  {
   "cell_type": "markdown",
   "metadata": {},
   "source": [
    "## 2.3. Prepare Data (Clean)"
   ]
  },
  {
   "cell_type": "markdown",
   "metadata": {},
   "source": [
    "Fazer uma cópia do dataframe df_queimadas para a etapa de limpeza"
   ]
  },
  {
   "cell_type": "code",
   "execution_count": 14,
   "metadata": {},
   "outputs": [],
   "source": [
    "df_clean = df_queimadas.copy()"
   ]
  },
  {
   "cell_type": "markdown",
   "metadata": {},
   "source": [
    "### Converter dados de string para float"
   ]
  },
  {
   "cell_type": "markdown",
   "metadata": {},
   "source": [
    "* Precisamos converter os dados das colunas preciptacao, riscofogo, latitude, longitude e frp de string para float."
   ]
  },
  {
   "cell_type": "markdown",
   "metadata": {},
   "source": [
    "##### Define"
   ]
  },
  {
   "cell_type": "markdown",
   "metadata": {},
   "source": [
    "Vamos converter o tipo dos dados das colunas de string pra float"
   ]
  },
  {
   "cell_type": "markdown",
   "metadata": {},
   "source": [
    "##### Code"
   ]
  },
  {
   "cell_type": "code",
   "execution_count": 15,
   "metadata": {},
   "outputs": [],
   "source": [
    "# convertendo tipo de dados de algumas colunas de object(string) para float\n",
    "df_clean['precipitacao'] = (df_clean['precipitacao'].replace(',', '.', regex=True).astype(float))\n",
    "df_clean['riscofogo'] = (df_clean['riscofogo'].replace(',', '.', regex=True).astype(float))\n",
    "df_clean['latitude'] = (df_clean['latitude'].replace(',', '.', regex=True).astype(float))\n",
    "df_clean['longitude'] = (df_clean['longitude'].replace(',', '.', regex=True).astype(float))\n",
    "df_clean['frp'] = (df_clean['frp'].replace(',', '.', regex=True).astype(float))"
   ]
  },
  {
   "cell_type": "markdown",
   "metadata": {},
   "source": [
    "##### Test"
   ]
  },
  {
   "cell_type": "code",
   "execution_count": 16,
   "metadata": {},
   "outputs": [
    {
     "data": {
      "text/plain": [
       "datahora         object\n",
       "satelite         object\n",
       "pais             object\n",
       "estado           object\n",
       "municipio        object\n",
       "bioma            object\n",
       "diasemchuva     float64\n",
       "precipitacao    float64\n",
       "riscofogo       float64\n",
       "latitude        float64\n",
       "longitude       float64\n",
       "frp             float64\n",
       "dtype: object"
      ]
     },
     "execution_count": 16,
     "metadata": {},
     "output_type": "execute_result"
    }
   ],
   "source": [
    "df_clean.dtypes"
   ]
  },
  {
   "cell_type": "markdown",
   "metadata": {},
   "source": [
    "### Missing values (Fixing NaN data values)"
   ]
  },
  {
   "cell_type": "markdown",
   "metadata": {},
   "source": [
    "* Existe dados nulos em todas as colunas. Mas nas colunas diassemchuva, precipitacao, riscofogo e frp tem mais."
   ]
  },
  {
   "cell_type": "markdown",
   "metadata": {},
   "source": [
    "##### Define"
   ]
  },
  {
   "cell_type": "markdown",
   "metadata": {},
   "source": [
    "Decidimos excluir essas linhas com valores faltantes, pois não temos como conseguir esses dados de outra forma. E também pelo fato de ser um valor pequeno comparado com o total de registros."
   ]
  },
  {
   "cell_type": "markdown",
   "metadata": {},
   "source": [
    "##### Code"
   ]
  },
  {
   "cell_type": "code",
   "execution_count": 17,
   "metadata": {},
   "outputs": [
    {
     "data": {
      "text/plain": [
       "datahora            1\n",
       "satelite            1\n",
       "pais                1\n",
       "estado              1\n",
       "municipio           1\n",
       "bioma               1\n",
       "diasemchuva     19421\n",
       "precipitacao    19421\n",
       "riscofogo       19421\n",
       "latitude            1\n",
       "longitude           1\n",
       "frp              2634\n",
       "dtype: int64"
      ]
     },
     "execution_count": 17,
     "metadata": {},
     "output_type": "execute_result"
    }
   ],
   "source": [
    "df_clean.isnull().sum()"
   ]
  },
  {
   "cell_type": "code",
   "execution_count": 18,
   "metadata": {},
   "outputs": [],
   "source": [
    "#Excluindo os dados faltantes em riscofogo\n",
    "df_clean = df_clean.dropna(subset=['riscofogo'])"
   ]
  },
  {
   "cell_type": "code",
   "execution_count": 19,
   "metadata": {},
   "outputs": [],
   "source": [
    "#Excluindo os dados faltantes em frp\n",
    "df_clean = df_clean.dropna(subset=['frp'])"
   ]
  },
  {
   "cell_type": "markdown",
   "metadata": {},
   "source": [
    "##### Test"
   ]
  },
  {
   "cell_type": "code",
   "execution_count": 20,
   "metadata": {},
   "outputs": [
    {
     "data": {
      "text/plain": [
       "datahora        0\n",
       "satelite        0\n",
       "pais            0\n",
       "estado          0\n",
       "municipio       0\n",
       "bioma           0\n",
       "diasemchuva     0\n",
       "precipitacao    0\n",
       "riscofogo       0\n",
       "latitude        0\n",
       "longitude       0\n",
       "frp             0\n",
       "dtype: int64"
      ]
     },
     "execution_count": 20,
     "metadata": {},
     "output_type": "execute_result"
    }
   ],
   "source": [
    "df_clean.isnull().sum()"
   ]
  },
  {
   "cell_type": "code",
   "execution_count": 21,
   "metadata": {},
   "outputs": [
    {
     "data": {
      "text/plain": [
       "(587147, 12)"
      ]
     },
     "execution_count": 21,
     "metadata": {},
     "output_type": "execute_result"
    }
   ],
   "source": [
    "df_clean.shape"
   ]
  },
  {
   "cell_type": "code",
   "execution_count": 22,
   "metadata": {},
   "outputs": [
    {
     "data": {
      "text/plain": [
       "datahora        587147\n",
       "satelite        587147\n",
       "pais            587147\n",
       "estado          587147\n",
       "municipio       587147\n",
       "bioma           587147\n",
       "diasemchuva     587147\n",
       "precipitacao    587147\n",
       "riscofogo       587147\n",
       "latitude        587147\n",
       "longitude       587147\n",
       "frp             587147\n",
       "dtype: int64"
      ]
     },
     "execution_count": 22,
     "metadata": {},
     "output_type": "execute_result"
    }
   ],
   "source": [
    "df_clean.count()"
   ]
  },
  {
   "cell_type": "markdown",
   "metadata": {},
   "source": [
    "## 3. Data exploration and visualization"
   ]
  },
  {
   "cell_type": "markdown",
   "metadata": {},
   "source": [
    "Gráfico de barras - maioria dos acidentes por bioma"
   ]
  },
  {
   "cell_type": "code",
   "execution_count": 23,
   "metadata": {},
   "outputs": [
    {
     "data": {
      "image/png": "[encoded data removed]",
      "text/plain": [
       "<Figure size 432x288 with 1 Axes>"
      ]
     },
     "metadata": {
      "needs_background": "light"
     },
     "output_type": "display_data"
    }
   ],
   "source": [
    "df_clean.groupby([\"bioma\"])['bioma'].count().plot(kind=\"bar\", title=\"Focos por bioma\")\n",
    "plt.ylabel('Total');"
   ]
  },
  {
   "cell_type": "code",
   "execution_count": 24,
   "metadata": {},
   "outputs": [
    {
     "data": {
      "image/png": "[encoded data removed]",
      "text/plain": [
       "<Figure size 864x360 with 1 Axes>"
      ]
     },
     "metadata": {
      "needs_background": "light"
     },
     "output_type": "display_data"
    }
   ],
   "source": [
    "plt.figure(figsize=(12,5))\n",
    "ax = sns.countplot(x='bioma', data=df_clean)\n",
    "ax.set_xlabel('Bioma')\n",
    "ax.set_ylabel('Qtd. de queimadas')\n",
    "plt.show()"
   ]
  },
  {
   "cell_type": "code",
   "execution_count": 25,
   "metadata": {},
   "outputs": [
    {
     "data": {
      "text/plain": [
       "bioma\n",
       "Amazonia          260295\n",
       "Cerrado           184791\n",
       "Mata Atlantica     53522\n",
       "Caatinga           44281\n",
       "Pantanal           39766\n",
       "Pampa               4492\n",
       "Name: bioma, dtype: int64"
      ]
     },
     "execution_count": 25,
     "metadata": {},
     "output_type": "execute_result"
    }
   ],
   "source": [
    "biomasCasos = df_clean.groupby('bioma')['bioma'].count().sort_values(ascending=False)\n",
    "biomasCasos.head(6)"
   ]
  },
  {
   "cell_type": "code",
   "execution_count": 39,
   "metadata": {},
   "outputs": [],
   "source": [
    "#### INICIO BIOMA AMAZONIA #####"
   ]
  },
  {
   "cell_type": "code",
   "execution_count": 28,
   "metadata": {},
   "outputs": [],
   "source": [
    "# BIOMA AMAZONIA APENAS\n",
    "df_biomaA = df_clean.copy()"
   ]
  },
  {
   "cell_type": "code",
   "execution_count": 29,
   "metadata": {},
   "outputs": [],
   "source": [
    "df_biomaA = df_biomaA.query('bioma == \"Amazonia\"')"
   ]
  },
  {
   "cell_type": "code",
   "execution_count": 30,
   "metadata": {},
   "outputs": [
    {
     "data": {
      "text/html": [
       "<div>\n",
       "<style scoped>\n",
       "    .dataframe tbody tr th:only-of-type {\n",
       "        vertical-align: middle;\n",
       "    }\n",
       "\n",
       "    .dataframe tbody tr th {\n",
       "        vertical-align: top;\n",
       "    }\n",
       "\n",
       "    .dataframe thead th {\n",
       "        text-align: right;\n",
       "    }\n",
       "</style>\n",
       "<table border=\"1\" class=\"dataframe\">\n",
       "  <thead>\n",
       "    <tr style=\"text-align: right;\">\n",
       "      <th></th>\n",
       "      <th>datahora</th>\n",
       "      <th>satelite</th>\n",
       "      <th>pais</th>\n",
       "      <th>estado</th>\n",
       "      <th>municipio</th>\n",
       "      <th>bioma</th>\n",
       "      <th>diasemchuva</th>\n",
       "      <th>precipitacao</th>\n",
       "      <th>riscofogo</th>\n",
       "      <th>latitude</th>\n",
       "      <th>longitude</th>\n",
       "      <th>frp</th>\n",
       "    </tr>\n",
       "  </thead>\n",
       "  <tbody>\n",
       "    <tr>\n",
       "      <th>22</th>\n",
       "      <td>15/08/2019 17:10:00</td>\n",
       "      <td>AQUA_M-T</td>\n",
       "      <td>Brasil</td>\n",
       "      <td>AMAZONAS</td>\n",
       "      <td>APUI</td>\n",
       "      <td>Amazonia</td>\n",
       "      <td>6.0</td>\n",
       "      <td>0.0</td>\n",
       "      <td>0.8</td>\n",
       "      <td>-6.870</td>\n",
       "      <td>-59.918</td>\n",
       "      <td>31.8</td>\n",
       "    </tr>\n",
       "    <tr>\n",
       "      <th>23</th>\n",
       "      <td>15/08/2019 17:10:00</td>\n",
       "      <td>AQUA_M-T</td>\n",
       "      <td>Brasil</td>\n",
       "      <td>PARA</td>\n",
       "      <td>ALTAMIRA</td>\n",
       "      <td>Amazonia</td>\n",
       "      <td>29.0</td>\n",
       "      <td>0.2</td>\n",
       "      <td>1.0</td>\n",
       "      <td>-6.875</td>\n",
       "      <td>-55.130</td>\n",
       "      <td>26.7</td>\n",
       "    </tr>\n",
       "    <tr>\n",
       "      <th>24</th>\n",
       "      <td>15/08/2019 17:10:00</td>\n",
       "      <td>AQUA_M-T</td>\n",
       "      <td>Brasil</td>\n",
       "      <td>AMAZONAS</td>\n",
       "      <td>APUI</td>\n",
       "      <td>Amazonia</td>\n",
       "      <td>8.0</td>\n",
       "      <td>0.0</td>\n",
       "      <td>0.9</td>\n",
       "      <td>-6.909</td>\n",
       "      <td>-59.424</td>\n",
       "      <td>81.9</td>\n",
       "    </tr>\n",
       "  </tbody>\n",
       "</table>\n",
       "</div>"
      ],
      "text/plain": [
       "               datahora  satelite    pais    estado municipio     bioma  \\\n",
       "22  15/08/2019 17:10:00  AQUA_M-T  Brasil  AMAZONAS      APUI  Amazonia   \n",
       "23  15/08/2019 17:10:00  AQUA_M-T  Brasil      PARA  ALTAMIRA  Amazonia   \n",
       "24  15/08/2019 17:10:00  AQUA_M-T  Brasil  AMAZONAS      APUI  Amazonia   \n",
       "\n",
       "    diasemchuva  precipitacao  riscofogo  latitude  longitude   frp  \n",
       "22          6.0           0.0        0.8    -6.870    -59.918  31.8  \n",
       "23         29.0           0.2        1.0    -6.875    -55.130  26.7  \n",
       "24          8.0           0.0        0.9    -6.909    -59.424  81.9  "
      ]
     },
     "execution_count": 30,
     "metadata": {},
     "output_type": "execute_result"
    }
   ],
   "source": [
    "df_biomaA.head(3)"
   ]
  },
  {
   "cell_type": "code",
   "execution_count": 31,
   "metadata": {},
   "outputs": [
    {
     "data": {
      "text/plain": [
       "(260295, 12)"
      ]
     },
     "execution_count": 31,
     "metadata": {},
     "output_type": "execute_result"
    }
   ],
   "source": [
    "df_biomaA.shape"
   ]
  },
  {
   "cell_type": "code",
   "execution_count": 32,
   "metadata": {},
   "outputs": [
    {
     "data": {
      "text/plain": [
       "estado\n",
       "PARA           87865\n",
       "MATO GROSSO    50554\n",
       "AMAZONAS       43329\n",
       "RONDONIA       31878\n",
       "ACRE           24088\n",
       "MARANHAO       10764\n",
       "RORAIMA         8093\n",
       "AMAPA           2671\n",
       "TOCANTINS       1053\n",
       "Name: estado, dtype: int64"
      ]
     },
     "execution_count": 32,
     "metadata": {},
     "output_type": "execute_result"
    }
   ],
   "source": [
    "df_estados_biomaA = df_biomaA.groupby('estado')['estado'].count().sort_values(ascending=False)\n",
    "df_estados_biomaA.head(10)"
   ]
  },
  {
   "cell_type": "code",
   "execution_count": 33,
   "metadata": {},
   "outputs": [
    {
     "data": {
      "text/plain": [
       "Text(0.5, 0, 'Total')"
      ]
     },
     "execution_count": 33,
     "metadata": {},
     "output_type": "execute_result"
    },
    {
     "data": {
      "image/png": "[encoded data removed]",
      "text/plain": [
       "<Figure size 432x288 with 1 Axes>"
      ]
     },
     "metadata": {
      "needs_background": "light"
     },
     "output_type": "display_data"
    }
   ],
   "source": [
    "plotinfectedstate = df_biomaA.groupby('estado')['estado'].count().sort_values().tail(15)\n",
    "plotinfectedstate.plot(kind='barh')\n",
    "plt.title(\"Focos por estado\")\n",
    "plt.ylabel(\"estados\")\n",
    "plt.xlabel(\"Total\")"
   ]
  },
  {
   "cell_type": "code",
   "execution_count": 34,
   "metadata": {},
   "outputs": [
    {
     "data": {
      "text/plain": [
       "municipio\n",
       "ALTAMIRA              11255\n",
       "SAO FELIX DO XINGU    10853\n",
       "PORTO VELHO           10367\n",
       "LABREA                 8075\n",
       "APUI                   6851\n",
       "NOVO PROGRESSO         6115\n",
       "COLNIZA                5475\n",
       "FEIJO                  4070\n",
       "ITAITUBA               4051\n",
       "NOVO ARIPUANA          4011\n",
       "Name: municipio, dtype: int64"
      ]
     },
     "execution_count": 34,
     "metadata": {},
     "output_type": "execute_result"
    }
   ],
   "source": [
    "cidadesCasos = df_biomaA.groupby('municipio')['municipio'].count().sort_values(ascending=False)\n",
    "cidadesCasos.head(10)"
   ]
  },
  {
   "cell_type": "code",
   "execution_count": 35,
   "metadata": {},
   "outputs": [
    {
     "data": {
      "text/plain": [
       "Text(0.5, 0, 'Total')"
      ]
     },
     "execution_count": 35,
     "metadata": {},
     "output_type": "execute_result"
    },
    {
     "data": {
      "image/png": "[encoded data removed]",
      "text/plain": [
       "<Figure size 432x288 with 1 Axes>"
      ]
     },
     "metadata": {
      "needs_background": "light"
     },
     "output_type": "display_data"
    }
   ],
   "source": [
    "plotinfectedstate = df_biomaA.groupby('municipio')['municipio'].count().sort_values().tail(10)\n",
    "plotinfectedstate.plot(kind='barh')\n",
    "plt.title(\"Focos por municipio\")\n",
    "plt.ylabel(\"municipios\")\n",
    "plt.xlabel(\"Total\")"
   ]
  },
  {
   "cell_type": "code",
   "execution_count": 40,
   "metadata": {},
   "outputs": [],
   "source": [
    "#Caso precise instalar as bibliotecas utilizando anaconda segue abaixo\n",
    "#conda install pandas fiona shapely \n",
    "\n",
    "#Você pode instalar em seu ambiente tambem utilizando o comando pip\n",
    "#pip install geopandas fiona shapely \n",
    "\n",
    "import geopandas as gpd\n",
    "from shapely.geometry import Point"
   ]
  },
  {
   "cell_type": "code",
   "execution_count": 41,
   "metadata": {},
   "outputs": [],
   "source": [
    "###import shapesfile\n",
    "df_malhasBr = gpd.read_file('shapefile/BR_Municipios_2021.shp')"
   ]
  },
  {
   "cell_type": "code",
   "execution_count": 42,
   "metadata": {},
   "outputs": [
    {
     "data": {
      "text/html": [
       "<div>\n",
       "<style scoped>\n",
       "    .dataframe tbody tr th:only-of-type {\n",
       "        vertical-align: middle;\n",
       "    }\n",
       "\n",
       "    .dataframe tbody tr th {\n",
       "        vertical-align: top;\n",
       "    }\n",
       "\n",
       "    .dataframe thead th {\n",
       "        text-align: right;\n",
       "    }\n",
       "</style>\n",
       "<table border=\"1\" class=\"dataframe\">\n",
       "  <thead>\n",
       "    <tr style=\"text-align: right;\">\n",
       "      <th></th>\n",
       "      <th>CD_MUN</th>\n",
       "      <th>NM_MUN</th>\n",
       "      <th>SIGLA</th>\n",
       "      <th>AREA_KM2</th>\n",
       "      <th>geometry</th>\n",
       "    </tr>\n",
       "  </thead>\n",
       "  <tbody>\n",
       "    <tr>\n",
       "      <th>0</th>\n",
       "      <td>1100015</td>\n",
       "      <td>Alta Floresta D'Oeste</td>\n",
       "      <td>RO</td>\n",
       "      <td>7067.127</td>\n",
       "      <td>POLYGON ((-62.19465 -11.82746, -62.19332 -11.8...</td>\n",
       "    </tr>\n",
       "    <tr>\n",
       "      <th>1</th>\n",
       "      <td>1100023</td>\n",
       "      <td>Ariquemes</td>\n",
       "      <td>RO</td>\n",
       "      <td>4426.571</td>\n",
       "      <td>POLYGON ((-62.53648 -9.73222, -62.52765 -9.736...</td>\n",
       "    </tr>\n",
       "    <tr>\n",
       "      <th>2</th>\n",
       "      <td>1100031</td>\n",
       "      <td>Cabixi</td>\n",
       "      <td>RO</td>\n",
       "      <td>1314.352</td>\n",
       "      <td>POLYGON ((-60.37119 -13.36655, -60.37134 -13.3...</td>\n",
       "    </tr>\n",
       "    <tr>\n",
       "      <th>3</th>\n",
       "      <td>1100049</td>\n",
       "      <td>Cacoal</td>\n",
       "      <td>RO</td>\n",
       "      <td>3793.000</td>\n",
       "      <td>POLYGON ((-61.00080 -11.29737, -61.00103 -11.3...</td>\n",
       "    </tr>\n",
       "    <tr>\n",
       "      <th>4</th>\n",
       "      <td>1100056</td>\n",
       "      <td>Cerejeiras</td>\n",
       "      <td>RO</td>\n",
       "      <td>2783.300</td>\n",
       "      <td>POLYGON ((-61.49976 -13.00525, -61.49809 -13.0...</td>\n",
       "    </tr>\n",
       "  </tbody>\n",
       "</table>\n",
       "</div>"
      ],
      "text/plain": [
       "    CD_MUN                 NM_MUN SIGLA  AREA_KM2  \\\n",
       "0  1100015  Alta Floresta D'Oeste    RO  7067.127   \n",
       "1  1100023              Ariquemes    RO  4426.571   \n",
       "2  1100031                 Cabixi    RO  1314.352   \n",
       "3  1100049                 Cacoal    RO  3793.000   \n",
       "4  1100056             Cerejeiras    RO  2783.300   \n",
       "\n",
       "                                            geometry  \n",
       "0  POLYGON ((-62.19465 -11.82746, -62.19332 -11.8...  \n",
       "1  POLYGON ((-62.53648 -9.73222, -62.52765 -9.736...  \n",
       "2  POLYGON ((-60.37119 -13.36655, -60.37134 -13.3...  \n",
       "3  POLYGON ((-61.00080 -11.29737, -61.00103 -11.3...  \n",
       "4  POLYGON ((-61.49976 -13.00525, -61.49809 -13.0...  "
      ]
     },
     "execution_count": 42,
     "metadata": {},
     "output_type": "execute_result"
    }
   ],
   "source": [
    "df_malhasBr.head(5)"
   ]
  },
  {
   "cell_type": "code",
   "execution_count": 43,
   "metadata": {},
   "outputs": [
    {
     "data": {
      "text/plain": [
       "(5572, 5)"
      ]
     },
     "execution_count": 43,
     "metadata": {},
     "output_type": "execute_result"
    }
   ],
   "source": [
    "df_malhasBr.shape"
   ]
  },
  {
   "cell_type": "code",
   "execution_count": 44,
   "metadata": {},
   "outputs": [
    {
     "name": "stdout",
     "output_type": "stream",
     "text": [
      "<class 'geopandas.geodataframe.GeoDataFrame'>\n",
      "RangeIndex: 5572 entries, 0 to 5571\n",
      "Data columns (total 5 columns):\n",
      " #   Column    Non-Null Count  Dtype   \n",
      "---  ------    --------------  -----   \n",
      " 0   CD_MUN    5572 non-null   object  \n",
      " 1   NM_MUN    5572 non-null   object  \n",
      " 2   SIGLA     5572 non-null   object  \n",
      " 3   AREA_KM2  5572 non-null   float64 \n",
      " 4   geometry  5572 non-null   geometry\n",
      "dtypes: float64(1), geometry(1), object(3)\n",
      "memory usage: 217.8+ KB\n"
     ]
    }
   ],
   "source": [
    "df_malhasBr.info()"
   ]
  },
  {
   "cell_type": "code",
   "execution_count": 45,
   "metadata": {},
   "outputs": [],
   "source": [
    "geometry = [Point(xy) for xy in zip(df_biomaA['longitude'],df_biomaA['latitude'])]"
   ]
  },
  {
   "cell_type": "code",
   "execution_count": 46,
   "metadata": {},
   "outputs": [],
   "source": [
    "df_cleanA = gpd.GeoDataFrame(df_biomaA, geometry = geometry, crs = df_malhasBr.crs)"
   ]
  },
  {
   "cell_type": "code",
   "execution_count": 47,
   "metadata": {},
   "outputs": [
    {
     "data": {
      "text/plain": [
       "'EPSG:4674'"
      ]
     },
     "execution_count": 47,
     "metadata": {},
     "output_type": "execute_result"
    }
   ],
   "source": [
    "df_cleanA.crs.to_string()"
   ]
  },
  {
   "cell_type": "code",
   "execution_count": 48,
   "metadata": {},
   "outputs": [
    {
     "data": {
      "text/html": [
       "<div>\n",
       "<style scoped>\n",
       "    .dataframe tbody tr th:only-of-type {\n",
       "        vertical-align: middle;\n",
       "    }\n",
       "\n",
       "    .dataframe tbody tr th {\n",
       "        vertical-align: top;\n",
       "    }\n",
       "\n",
       "    .dataframe thead th {\n",
       "        text-align: right;\n",
       "    }\n",
       "</style>\n",
       "<table border=\"1\" class=\"dataframe\">\n",
       "  <thead>\n",
       "    <tr style=\"text-align: right;\">\n",
       "      <th></th>\n",
       "      <th>datahora</th>\n",
       "      <th>satelite</th>\n",
       "      <th>pais</th>\n",
       "      <th>estado</th>\n",
       "      <th>municipio</th>\n",
       "      <th>bioma</th>\n",
       "      <th>diasemchuva</th>\n",
       "      <th>precipitacao</th>\n",
       "      <th>riscofogo</th>\n",
       "      <th>latitude</th>\n",
       "      <th>longitude</th>\n",
       "      <th>frp</th>\n",
       "      <th>geometry</th>\n",
       "    </tr>\n",
       "  </thead>\n",
       "  <tbody>\n",
       "    <tr>\n",
       "      <th>22</th>\n",
       "      <td>15/08/2019 17:10:00</td>\n",
       "      <td>AQUA_M-T</td>\n",
       "      <td>Brasil</td>\n",
       "      <td>AMAZONAS</td>\n",
       "      <td>APUI</td>\n",
       "      <td>Amazonia</td>\n",
       "      <td>6.0</td>\n",
       "      <td>0.0</td>\n",
       "      <td>0.8</td>\n",
       "      <td>-6.870</td>\n",
       "      <td>-59.918</td>\n",
       "      <td>31.8</td>\n",
       "      <td>POINT (-59.91800 -6.87000)</td>\n",
       "    </tr>\n",
       "    <tr>\n",
       "      <th>23</th>\n",
       "      <td>15/08/2019 17:10:00</td>\n",
       "      <td>AQUA_M-T</td>\n",
       "      <td>Brasil</td>\n",
       "      <td>PARA</td>\n",
       "      <td>ALTAMIRA</td>\n",
       "      <td>Amazonia</td>\n",
       "      <td>29.0</td>\n",
       "      <td>0.2</td>\n",
       "      <td>1.0</td>\n",
       "      <td>-6.875</td>\n",
       "      <td>-55.130</td>\n",
       "      <td>26.7</td>\n",
       "      <td>POINT (-55.13000 -6.87500)</td>\n",
       "    </tr>\n",
       "    <tr>\n",
       "      <th>24</th>\n",
       "      <td>15/08/2019 17:10:00</td>\n",
       "      <td>AQUA_M-T</td>\n",
       "      <td>Brasil</td>\n",
       "      <td>AMAZONAS</td>\n",
       "      <td>APUI</td>\n",
       "      <td>Amazonia</td>\n",
       "      <td>8.0</td>\n",
       "      <td>0.0</td>\n",
       "      <td>0.9</td>\n",
       "      <td>-6.909</td>\n",
       "      <td>-59.424</td>\n",
       "      <td>81.9</td>\n",
       "      <td>POINT (-59.42400 -6.90900)</td>\n",
       "    </tr>\n",
       "  </tbody>\n",
       "</table>\n",
       "</div>"
      ],
      "text/plain": [
       "               datahora  satelite    pais    estado municipio     bioma  \\\n",
       "22  15/08/2019 17:10:00  AQUA_M-T  Brasil  AMAZONAS      APUI  Amazonia   \n",
       "23  15/08/2019 17:10:00  AQUA_M-T  Brasil      PARA  ALTAMIRA  Amazonia   \n",
       "24  15/08/2019 17:10:00  AQUA_M-T  Brasil  AMAZONAS      APUI  Amazonia   \n",
       "\n",
       "    diasemchuva  precipitacao  riscofogo  latitude  longitude   frp  \\\n",
       "22          6.0           0.0        0.8    -6.870    -59.918  31.8   \n",
       "23         29.0           0.2        1.0    -6.875    -55.130  26.7   \n",
       "24          8.0           0.0        0.9    -6.909    -59.424  81.9   \n",
       "\n",
       "                      geometry  \n",
       "22  POINT (-59.91800 -6.87000)  \n",
       "23  POINT (-55.13000 -6.87500)  \n",
       "24  POINT (-59.42400 -6.90900)  "
      ]
     },
     "execution_count": 48,
     "metadata": {},
     "output_type": "execute_result"
    }
   ],
   "source": [
    "df_cleanA.head(3)"
   ]
  },
  {
   "cell_type": "code",
   "execution_count": 49,
   "metadata": {},
   "outputs": [
    {
     "data": {
      "text/plain": [
       "(260295, 13)"
      ]
     },
     "execution_count": 49,
     "metadata": {},
     "output_type": "execute_result"
    }
   ],
   "source": [
    "df_cleanA.shape"
   ]
  },
  {
   "cell_type": "code",
   "execution_count": 53,
   "metadata": {},
   "outputs": [
    {
     "data": {
      "text/plain": [
       "<AxesSubplot:>"
      ]
     },
     "execution_count": 53,
     "metadata": {},
     "output_type": "execute_result"
    },
    {
     "data": {
      "image/png": "[encoded data removed]",
      "text/plain": [
       "<Figure size 576x576 with 1 Axes>"
      ]
     },
     "metadata": {
      "needs_background": "light"
     },
     "output_type": "display_data"
    }
   ],
   "source": [
    "#Plot map \n",
    "fig, ax = plt.subplots(figsize=(8,8))\n",
    "\n",
    "df_malhasBr.plot(ax=ax, color = 'green', edgecolor = 'black')\n",
    "df_cleanA.plot(ax=ax, markersize = 2, color = 'red')"
   ]
  },
  {
   "cell_type": "code",
   "execution_count": 50,
   "metadata": {},
   "outputs": [
    {
     "data": {
      "text/plain": [
       "71620"
      ]
     },
     "execution_count": 50,
     "metadata": {},
     "output_type": "execute_result"
    }
   ],
   "source": [
    "sum(df_cleanA['riscofogo'] == 1)"
   ]
  },
  {
   "cell_type": "code",
   "execution_count": 51,
   "metadata": {},
   "outputs": [
    {
     "data": {
      "text/html": [
       "<div>\n",
       "<style scoped>\n",
       "    .dataframe tbody tr th:only-of-type {\n",
       "        vertical-align: middle;\n",
       "    }\n",
       "\n",
       "    .dataframe tbody tr th {\n",
       "        vertical-align: top;\n",
       "    }\n",
       "\n",
       "    .dataframe thead th {\n",
       "        text-align: right;\n",
       "    }\n",
       "</style>\n",
       "<table border=\"1\" class=\"dataframe\">\n",
       "  <thead>\n",
       "    <tr style=\"text-align: right;\">\n",
       "      <th></th>\n",
       "      <th>datahora</th>\n",
       "      <th>satelite</th>\n",
       "      <th>pais</th>\n",
       "      <th>estado</th>\n",
       "      <th>municipio</th>\n",
       "      <th>bioma</th>\n",
       "      <th>diasemchuva</th>\n",
       "      <th>precipitacao</th>\n",
       "      <th>riscofogo</th>\n",
       "      <th>latitude</th>\n",
       "      <th>longitude</th>\n",
       "      <th>frp</th>\n",
       "      <th>geometry</th>\n",
       "    </tr>\n",
       "  </thead>\n",
       "  <tbody>\n",
       "    <tr>\n",
       "      <th>23</th>\n",
       "      <td>15/08/2019 17:10:00</td>\n",
       "      <td>AQUA_M-T</td>\n",
       "      <td>Brasil</td>\n",
       "      <td>PARA</td>\n",
       "      <td>ALTAMIRA</td>\n",
       "      <td>Amazonia</td>\n",
       "      <td>29.0</td>\n",
       "      <td>0.2</td>\n",
       "      <td>1.0</td>\n",
       "      <td>-6.875</td>\n",
       "      <td>-55.130</td>\n",
       "      <td>26.7</td>\n",
       "      <td>POINT (-55.13000 -6.87500)</td>\n",
       "    </tr>\n",
       "    <tr>\n",
       "      <th>30</th>\n",
       "      <td>15/08/2019 17:10:00</td>\n",
       "      <td>AQUA_M-T</td>\n",
       "      <td>Brasil</td>\n",
       "      <td>RONDONIA</td>\n",
       "      <td>MACHADINHO D'OESTE</td>\n",
       "      <td>Amazonia</td>\n",
       "      <td>39.0</td>\n",
       "      <td>0.0</td>\n",
       "      <td>1.0</td>\n",
       "      <td>-8.950</td>\n",
       "      <td>-61.532</td>\n",
       "      <td>111.0</td>\n",
       "      <td>POINT (-61.53200 -8.95000)</td>\n",
       "    </tr>\n",
       "    <tr>\n",
       "      <th>31</th>\n",
       "      <td>15/08/2019 17:10:00</td>\n",
       "      <td>AQUA_M-T</td>\n",
       "      <td>Brasil</td>\n",
       "      <td>RONDONIA</td>\n",
       "      <td>MACHADINHO D'OESTE</td>\n",
       "      <td>Amazonia</td>\n",
       "      <td>41.0</td>\n",
       "      <td>0.0</td>\n",
       "      <td>1.0</td>\n",
       "      <td>-8.952</td>\n",
       "      <td>-62.221</td>\n",
       "      <td>141.0</td>\n",
       "      <td>POINT (-62.22100 -8.95200)</td>\n",
       "    </tr>\n",
       "    <tr>\n",
       "      <th>32</th>\n",
       "      <td>15/08/2019 17:10:00</td>\n",
       "      <td>AQUA_M-T</td>\n",
       "      <td>Brasil</td>\n",
       "      <td>RONDONIA</td>\n",
       "      <td>CUJUBIM</td>\n",
       "      <td>Amazonia</td>\n",
       "      <td>41.0</td>\n",
       "      <td>0.0</td>\n",
       "      <td>1.0</td>\n",
       "      <td>-8.953</td>\n",
       "      <td>-62.367</td>\n",
       "      <td>202.7</td>\n",
       "      <td>POINT (-62.36700 -8.95300)</td>\n",
       "    </tr>\n",
       "    <tr>\n",
       "      <th>33</th>\n",
       "      <td>15/08/2019 17:10:00</td>\n",
       "      <td>AQUA_M-T</td>\n",
       "      <td>Brasil</td>\n",
       "      <td>RONDONIA</td>\n",
       "      <td>MACHADINHO D'OESTE</td>\n",
       "      <td>Amazonia</td>\n",
       "      <td>40.0</td>\n",
       "      <td>0.0</td>\n",
       "      <td>1.0</td>\n",
       "      <td>-8.957</td>\n",
       "      <td>-62.213</td>\n",
       "      <td>155.8</td>\n",
       "      <td>POINT (-62.21300 -8.95700)</td>\n",
       "    </tr>\n",
       "  </tbody>\n",
       "</table>\n",
       "</div>"
      ],
      "text/plain": [
       "               datahora  satelite    pais    estado           municipio  \\\n",
       "23  15/08/2019 17:10:00  AQUA_M-T  Brasil      PARA            ALTAMIRA   \n",
       "30  15/08/2019 17:10:00  AQUA_M-T  Brasil  RONDONIA  MACHADINHO D'OESTE   \n",
       "31  15/08/2019 17:10:00  AQUA_M-T  Brasil  RONDONIA  MACHADINHO D'OESTE   \n",
       "32  15/08/2019 17:10:00  AQUA_M-T  Brasil  RONDONIA             CUJUBIM   \n",
       "33  15/08/2019 17:10:00  AQUA_M-T  Brasil  RONDONIA  MACHADINHO D'OESTE   \n",
       "\n",
       "       bioma  diasemchuva  precipitacao  riscofogo  latitude  longitude  \\\n",
       "23  Amazonia         29.0           0.2        1.0    -6.875    -55.130   \n",
       "30  Amazonia         39.0           0.0        1.0    -8.950    -61.532   \n",
       "31  Amazonia         41.0           0.0        1.0    -8.952    -62.221   \n",
       "32  Amazonia         41.0           0.0        1.0    -8.953    -62.367   \n",
       "33  Amazonia         40.0           0.0        1.0    -8.957    -62.213   \n",
       "\n",
       "      frp                    geometry  \n",
       "23   26.7  POINT (-55.13000 -6.87500)  \n",
       "30  111.0  POINT (-61.53200 -8.95000)  \n",
       "31  141.0  POINT (-62.22100 -8.95200)  \n",
       "32  202.7  POINT (-62.36700 -8.95300)  \n",
       "33  155.8  POINT (-62.21300 -8.95700)  "
      ]
     },
     "execution_count": 51,
     "metadata": {},
     "output_type": "execute_result"
    }
   ],
   "source": [
    "df_cleanA_risco_alto = df_cleanA[df_cleanA['riscofogo'] == 1]\n",
    "df_cleanA_risco_alto.head()"
   ]
  },
  {
   "cell_type": "code",
   "execution_count": 56,
   "metadata": {},
   "outputs": [
    {
     "data": {
      "text/plain": [
       "(71620, 13)"
      ]
     },
     "execution_count": 56,
     "metadata": {},
     "output_type": "execute_result"
    }
   ],
   "source": [
    "df_cleanA_risco_alto.shape"
   ]
  },
  {
   "cell_type": "code",
   "execution_count": 52,
   "metadata": {},
   "outputs": [
    {
     "data": {
      "text/plain": [
       "municipio\n",
       "ALTAMIRA                     4700\n",
       "SAO FELIX DO XINGU           3885\n",
       "NOVO PROGRESSO               3180\n",
       "COLNIZA                      3031\n",
       "PORTO VELHO                  2954\n",
       "LABREA                       2119\n",
       "ARIPUANA                     1664\n",
       "GAUCHA DO NORTE              1288\n",
       "CARACARAI                    1185\n",
       "SANTA MARIA DAS BARREIRAS    1161\n",
       "Name: municipio, dtype: int64"
      ]
     },
     "execution_count": 52,
     "metadata": {},
     "output_type": "execute_result"
    }
   ],
   "source": [
    "df_cidades_riscoAlto = df_cleanA_risco_alto.groupby('municipio')['municipio'].count().sort_values(ascending=False)\n",
    "df_cidades_riscoAlto.head(10)"
   ]
  },
  {
   "cell_type": "code",
   "execution_count": 53,
   "metadata": {},
   "outputs": [
    {
     "data": {
      "text/plain": [
       "Text(0.5, 0, 'Total')"
      ]
     },
     "execution_count": 53,
     "metadata": {},
     "output_type": "execute_result"
    },
    {
     "data": {
      "image/png": "[encoded data removed]",
      "text/plain": [
       "<Figure size 432x288 with 1 Axes>"
      ]
     },
     "metadata": {
      "needs_background": "light"
     },
     "output_type": "display_data"
    }
   ],
   "source": [
    "plotinfectedstate = df_cleanA_risco_alto.groupby('municipio')['municipio'].count().sort_values().tail(10)\n",
    "plotinfectedstate.plot(kind='barh')\n",
    "plt.title(\"Focos por municipio\")\n",
    "plt.ylabel(\"municipios\")\n",
    "plt.xlabel(\"Total\")"
   ]
  },
  {
   "cell_type": "code",
   "execution_count": 59,
   "metadata": {},
   "outputs": [
    {
     "data": {
      "text/plain": [
       "<AxesSubplot:>"
      ]
     },
     "execution_count": 59,
     "metadata": {},
     "output_type": "execute_result"
    },
    {
     "data": {
      "image/png": "[encoded data removed]",
      "text/plain": [
       "<Figure size 576x576 with 1 Axes>"
      ]
     },
     "metadata": {
      "needs_background": "light"
     },
     "output_type": "display_data"
    }
   ],
   "source": [
    "#Plot map \n",
    "fig, ax = plt.subplots(figsize=(8,8))\n",
    "\n",
    "df_malhasBr.plot(ax=ax, color = 'green', edgecolor = 'black')\n",
    "df_cleanA_risco_alto.plot(ax=ax, markersize = 2, color = 'red')"
   ]
  },
  {
   "cell_type": "markdown",
   "metadata": {},
   "source": [
    "### Juntando os dados das queimadas com dados das malhas Municipio do Brasil  (Fonte: IBGE) "
   ]
  },
  {
   "cell_type": "code",
   "execution_count": 54,
   "metadata": {},
   "outputs": [],
   "source": [
    "df_join = gpd.sjoin(df_cleanA, df_malhasBr, op='within')"
   ]
  },
  {
   "cell_type": "code",
   "execution_count": 55,
   "metadata": {},
   "outputs": [
    {
     "data": {
      "text/html": [
       "<div>\n",
       "<style scoped>\n",
       "    .dataframe tbody tr th:only-of-type {\n",
       "        vertical-align: middle;\n",
       "    }\n",
       "\n",
       "    .dataframe tbody tr th {\n",
       "        vertical-align: top;\n",
       "    }\n",
       "\n",
       "    .dataframe thead th {\n",
       "        text-align: right;\n",
       "    }\n",
       "</style>\n",
       "<table border=\"1\" class=\"dataframe\">\n",
       "  <thead>\n",
       "    <tr style=\"text-align: right;\">\n",
       "      <th></th>\n",
       "      <th>datahora</th>\n",
       "      <th>satelite</th>\n",
       "      <th>pais</th>\n",
       "      <th>estado</th>\n",
       "      <th>municipio</th>\n",
       "      <th>bioma</th>\n",
       "      <th>diasemchuva</th>\n",
       "      <th>precipitacao</th>\n",
       "      <th>riscofogo</th>\n",
       "      <th>latitude</th>\n",
       "      <th>longitude</th>\n",
       "      <th>frp</th>\n",
       "      <th>geometry</th>\n",
       "      <th>index_right</th>\n",
       "      <th>CD_MUN</th>\n",
       "      <th>NM_MUN</th>\n",
       "      <th>SIGLA</th>\n",
       "      <th>AREA_KM2</th>\n",
       "    </tr>\n",
       "  </thead>\n",
       "  <tbody>\n",
       "    <tr>\n",
       "      <th>365346</th>\n",
       "      <td>24/09/2020 18:10:00</td>\n",
       "      <td>AQUA_M-T</td>\n",
       "      <td>Brasil</td>\n",
       "      <td>ACRE</td>\n",
       "      <td>ACRELANDIA</td>\n",
       "      <td>Amazonia</td>\n",
       "      <td>2.0</td>\n",
       "      <td>3.6</td>\n",
       "      <td>1.0</td>\n",
       "      <td>-10.10700</td>\n",
       "      <td>-66.95000</td>\n",
       "      <td>15.6</td>\n",
       "      <td>POINT (-66.95000 -10.10700)</td>\n",
       "      <td>52</td>\n",
       "      <td>1200013</td>\n",
       "      <td>Acrelândia</td>\n",
       "      <td>AC</td>\n",
       "      <td>1811.613</td>\n",
       "    </tr>\n",
       "    <tr>\n",
       "      <th>474404</th>\n",
       "      <td>12/08/2021 18:00:00</td>\n",
       "      <td>AQUA_M-T</td>\n",
       "      <td>Brasil</td>\n",
       "      <td>RONDONIA</td>\n",
       "      <td>CANDEIAS DO JAMARI</td>\n",
       "      <td>Amazonia</td>\n",
       "      <td>50.0</td>\n",
       "      <td>0.0</td>\n",
       "      <td>1.0</td>\n",
       "      <td>-8.74026</td>\n",
       "      <td>-63.02994</td>\n",
       "      <td>186.6</td>\n",
       "      <td>POINT (-63.02994 -8.74026)</td>\n",
       "      <td>31</td>\n",
       "      <td>1100809</td>\n",
       "      <td>Candeias do Jamari</td>\n",
       "      <td>RO</td>\n",
       "      <td>6843.868</td>\n",
       "    </tr>\n",
       "    <tr>\n",
       "      <th>368244</th>\n",
       "      <td>07/09/2020 17:25:00</td>\n",
       "      <td>AQUA_M-T</td>\n",
       "      <td>Brasil</td>\n",
       "      <td>MATO GROSSO</td>\n",
       "      <td>ARIPUANA</td>\n",
       "      <td>Amazonia</td>\n",
       "      <td>10.0</td>\n",
       "      <td>0.0</td>\n",
       "      <td>1.0</td>\n",
       "      <td>-9.91600</td>\n",
       "      <td>-60.40000</td>\n",
       "      <td>296.7</td>\n",
       "      <td>POINT (-60.40000 -9.91600)</td>\n",
       "      <td>5197</td>\n",
       "      <td>5101407</td>\n",
       "      <td>Aripuanã</td>\n",
       "      <td>MT</td>\n",
       "      <td>24678.135</td>\n",
       "    </tr>\n",
       "    <tr>\n",
       "      <th>456557</th>\n",
       "      <td>14/09/2020 17:35:00</td>\n",
       "      <td>AQUA_M-T</td>\n",
       "      <td>Brasil</td>\n",
       "      <td>RONDONIA</td>\n",
       "      <td>CUJUBIM</td>\n",
       "      <td>Amazonia</td>\n",
       "      <td>2.0</td>\n",
       "      <td>0.7</td>\n",
       "      <td>0.3</td>\n",
       "      <td>-8.96300</td>\n",
       "      <td>-62.45200</td>\n",
       "      <td>26.6</td>\n",
       "      <td>POINT (-62.45200 -8.96300)</td>\n",
       "      <td>34</td>\n",
       "      <td>1100940</td>\n",
       "      <td>Cujubim</td>\n",
       "      <td>RO</td>\n",
       "      <td>3863.946</td>\n",
       "    </tr>\n",
       "    <tr>\n",
       "      <th>460064</th>\n",
       "      <td>06/10/2020 17:00:00</td>\n",
       "      <td>AQUA_M-T</td>\n",
       "      <td>Brasil</td>\n",
       "      <td>PARA</td>\n",
       "      <td>PACAJA</td>\n",
       "      <td>Amazonia</td>\n",
       "      <td>7.0</td>\n",
       "      <td>0.1</td>\n",
       "      <td>0.4</td>\n",
       "      <td>-3.95700</td>\n",
       "      <td>-51.24600</td>\n",
       "      <td>15.6</td>\n",
       "      <td>POINT (-51.24600 -3.95700)</td>\n",
       "      <td>237</td>\n",
       "      <td>1505486</td>\n",
       "      <td>Pacajá</td>\n",
       "      <td>PA</td>\n",
       "      <td>11832.323</td>\n",
       "    </tr>\n",
       "  </tbody>\n",
       "</table>\n",
       "</div>"
      ],
      "text/plain": [
       "                   datahora  satelite    pais       estado  \\\n",
       "365346  24/09/2020 18:10:00  AQUA_M-T  Brasil         ACRE   \n",
       "474404  12/08/2021 18:00:00  AQUA_M-T  Brasil     RONDONIA   \n",
       "368244  07/09/2020 17:25:00  AQUA_M-T  Brasil  MATO GROSSO   \n",
       "456557  14/09/2020 17:35:00  AQUA_M-T  Brasil     RONDONIA   \n",
       "460064  06/10/2020 17:00:00  AQUA_M-T  Brasil         PARA   \n",
       "\n",
       "                 municipio     bioma  diasemchuva  precipitacao  riscofogo  \\\n",
       "365346          ACRELANDIA  Amazonia          2.0           3.6        1.0   \n",
       "474404  CANDEIAS DO JAMARI  Amazonia         50.0           0.0        1.0   \n",
       "368244            ARIPUANA  Amazonia         10.0           0.0        1.0   \n",
       "456557             CUJUBIM  Amazonia          2.0           0.7        0.3   \n",
       "460064              PACAJA  Amazonia          7.0           0.1        0.4   \n",
       "\n",
       "        latitude  longitude    frp                     geometry  index_right  \\\n",
       "365346 -10.10700  -66.95000   15.6  POINT (-66.95000 -10.10700)           52   \n",
       "474404  -8.74026  -63.02994  186.6   POINT (-63.02994 -8.74026)           31   \n",
       "368244  -9.91600  -60.40000  296.7   POINT (-60.40000 -9.91600)         5197   \n",
       "456557  -8.96300  -62.45200   26.6   POINT (-62.45200 -8.96300)           34   \n",
       "460064  -3.95700  -51.24600   15.6   POINT (-51.24600 -3.95700)          237   \n",
       "\n",
       "         CD_MUN              NM_MUN SIGLA   AREA_KM2  \n",
       "365346  1200013          Acrelândia    AC   1811.613  \n",
       "474404  1100809  Candeias do Jamari    RO   6843.868  \n",
       "368244  5101407            Aripuanã    MT  24678.135  \n",
       "456557  1100940             Cujubim    RO   3863.946  \n",
       "460064  1505486              Pacajá    PA  11832.323  "
      ]
     },
     "execution_count": 55,
     "metadata": {},
     "output_type": "execute_result"
    }
   ],
   "source": [
    "df_join.sample(5)"
   ]
  },
  {
   "cell_type": "code",
   "execution_count": 56,
   "metadata": {},
   "outputs": [
    {
     "data": {
      "text/plain": [
       "(260281, 18)"
      ]
     },
     "execution_count": 56,
     "metadata": {},
     "output_type": "execute_result"
    }
   ],
   "source": [
    "df_join.shape"
   ]
  },
  {
   "cell_type": "code",
   "execution_count": 57,
   "metadata": {},
   "outputs": [
    {
     "name": "stdout",
     "output_type": "stream",
     "text": [
      "<class 'geopandas.geodataframe.GeoDataFrame'>\n",
      "Int64Index: 260281 entries, 22 to 497514\n",
      "Data columns (total 18 columns):\n",
      " #   Column        Non-Null Count   Dtype   \n",
      "---  ------        --------------   -----   \n",
      " 0   datahora      260281 non-null  object  \n",
      " 1   satelite      260281 non-null  object  \n",
      " 2   pais          260281 non-null  object  \n",
      " 3   estado        260281 non-null  object  \n",
      " 4   municipio     260281 non-null  object  \n",
      " 5   bioma         260281 non-null  object  \n",
      " 6   diasemchuva   260281 non-null  float64 \n",
      " 7   precipitacao  260281 non-null  float64 \n",
      " 8   riscofogo     260281 non-null  float64 \n",
      " 9   latitude      260281 non-null  float64 \n",
      " 10  longitude     260281 non-null  float64 \n",
      " 11  frp           260281 non-null  float64 \n",
      " 12  geometry      260281 non-null  geometry\n",
      " 13  index_right   260281 non-null  int64   \n",
      " 14  CD_MUN        260281 non-null  object  \n",
      " 15  NM_MUN        260281 non-null  object  \n",
      " 16  SIGLA         260281 non-null  object  \n",
      " 17  AREA_KM2      260281 non-null  float64 \n",
      "dtypes: float64(7), geometry(1), int64(1), object(9)\n",
      "memory usage: 37.7+ MB\n"
     ]
    }
   ],
   "source": [
    "df_join.info()"
   ]
  },
  {
   "cell_type": "code",
   "execution_count": 58,
   "metadata": {},
   "outputs": [
    {
     "data": {
      "text/plain": [
       "datahora        260281\n",
       "satelite        260281\n",
       "pais            260281\n",
       "estado          260281\n",
       "municipio       260281\n",
       "bioma           260281\n",
       "diasemchuva     260281\n",
       "precipitacao    260281\n",
       "riscofogo       260281\n",
       "latitude        260281\n",
       "longitude       260281\n",
       "frp             260281\n",
       "geometry        260281\n",
       "index_right     260281\n",
       "CD_MUN          260281\n",
       "NM_MUN          260281\n",
       "SIGLA           260281\n",
       "AREA_KM2        260281\n",
       "dtype: int64"
      ]
     },
     "execution_count": 58,
     "metadata": {},
     "output_type": "execute_result"
    }
   ],
   "source": [
    "df_join.count()"
   ]
  },
  {
   "cell_type": "code",
   "execution_count": 59,
   "metadata": {},
   "outputs": [
    {
     "data": {
      "text/plain": [
       "datahora        0\n",
       "satelite        0\n",
       "pais            0\n",
       "estado          0\n",
       "municipio       0\n",
       "bioma           0\n",
       "diasemchuva     0\n",
       "precipitacao    0\n",
       "riscofogo       0\n",
       "latitude        0\n",
       "longitude       0\n",
       "frp             0\n",
       "geometry        0\n",
       "index_right     0\n",
       "CD_MUN          0\n",
       "NM_MUN          0\n",
       "SIGLA           0\n",
       "AREA_KM2        0\n",
       "dtype: int64"
      ]
     },
     "execution_count": 59,
     "metadata": {},
     "output_type": "execute_result"
    }
   ],
   "source": [
    "df_join.isnull().sum()"
   ]
  },
  {
   "cell_type": "code",
   "execution_count": 60,
   "metadata": {},
   "outputs": [
    {
     "data": {
      "text/plain": [
       "0"
      ]
     },
     "execution_count": 60,
     "metadata": {},
     "output_type": "execute_result"
    }
   ],
   "source": [
    "sum(df_join.duplicated())"
   ]
  },
  {
   "cell_type": "code",
   "execution_count": 61,
   "metadata": {},
   "outputs": [
    {
     "data": {
      "text/html": [
       "<div>\n",
       "<style scoped>\n",
       "    .dataframe tbody tr th:only-of-type {\n",
       "        vertical-align: middle;\n",
       "    }\n",
       "\n",
       "    .dataframe tbody tr th {\n",
       "        vertical-align: top;\n",
       "    }\n",
       "\n",
       "    .dataframe thead th {\n",
       "        text-align: right;\n",
       "    }\n",
       "</style>\n",
       "<table border=\"1\" class=\"dataframe\">\n",
       "  <thead>\n",
       "    <tr style=\"text-align: right;\">\n",
       "      <th></th>\n",
       "      <th>datahora</th>\n",
       "      <th>satelite</th>\n",
       "      <th>pais</th>\n",
       "      <th>estado</th>\n",
       "      <th>municipio</th>\n",
       "      <th>bioma</th>\n",
       "      <th>diasemchuva</th>\n",
       "      <th>precipitacao</th>\n",
       "      <th>riscofogo</th>\n",
       "      <th>latitude</th>\n",
       "      <th>longitude</th>\n",
       "      <th>frp</th>\n",
       "      <th>geometry</th>\n",
       "      <th>index_right</th>\n",
       "      <th>CD_MUN</th>\n",
       "      <th>NM_MUN</th>\n",
       "      <th>SIGLA</th>\n",
       "      <th>AREA_KM2</th>\n",
       "    </tr>\n",
       "  </thead>\n",
       "  <tbody>\n",
       "    <tr>\n",
       "      <th>318151</th>\n",
       "      <td>30/08/2020 18:12:49</td>\n",
       "      <td>AQUA_M-T</td>\n",
       "      <td>Brasil</td>\n",
       "      <td>RONDONIA</td>\n",
       "      <td>PORTO VELHO</td>\n",
       "      <td>Amazonia</td>\n",
       "      <td>0.0</td>\n",
       "      <td>0.4</td>\n",
       "      <td>0.1</td>\n",
       "      <td>-9.58100</td>\n",
       "      <td>-64.41800</td>\n",
       "      <td>180.2</td>\n",
       "      <td>POINT (-64.41800 -9.58100)</td>\n",
       "      <td>16</td>\n",
       "      <td>1100205</td>\n",
       "      <td>Porto Velho</td>\n",
       "      <td>RO</td>\n",
       "      <td>34090.952</td>\n",
       "    </tr>\n",
       "    <tr>\n",
       "      <th>509971</th>\n",
       "      <td>05/08/2021 17:54:00</td>\n",
       "      <td>AQUA_M-T</td>\n",
       "      <td>Brasil</td>\n",
       "      <td>PARA</td>\n",
       "      <td>ALTAMIRA</td>\n",
       "      <td>Amazonia</td>\n",
       "      <td>23.0</td>\n",
       "      <td>0.0</td>\n",
       "      <td>0.9</td>\n",
       "      <td>-6.28447</td>\n",
       "      <td>-54.01442</td>\n",
       "      <td>136.5</td>\n",
       "      <td>POINT (-54.01442 -6.28447)</td>\n",
       "      <td>158</td>\n",
       "      <td>1500602</td>\n",
       "      <td>Altamira</td>\n",
       "      <td>PA</td>\n",
       "      <td>159533.306</td>\n",
       "    </tr>\n",
       "  </tbody>\n",
       "</table>\n",
       "</div>"
      ],
      "text/plain": [
       "                   datahora  satelite    pais    estado    municipio  \\\n",
       "318151  30/08/2020 18:12:49  AQUA_M-T  Brasil  RONDONIA  PORTO VELHO   \n",
       "509971  05/08/2021 17:54:00  AQUA_M-T  Brasil      PARA     ALTAMIRA   \n",
       "\n",
       "           bioma  diasemchuva  precipitacao  riscofogo  latitude  longitude  \\\n",
       "318151  Amazonia          0.0           0.4        0.1  -9.58100  -64.41800   \n",
       "509971  Amazonia         23.0           0.0        0.9  -6.28447  -54.01442   \n",
       "\n",
       "          frp                    geometry  index_right   CD_MUN       NM_MUN  \\\n",
       "318151  180.2  POINT (-64.41800 -9.58100)           16  1100205  Porto Velho   \n",
       "509971  136.5  POINT (-54.01442 -6.28447)          158  1500602     Altamira   \n",
       "\n",
       "       SIGLA    AREA_KM2  \n",
       "318151    RO   34090.952  \n",
       "509971    PA  159533.306  "
      ]
     },
     "execution_count": 61,
     "metadata": {},
     "output_type": "execute_result"
    }
   ],
   "source": [
    "df_join.sample(2)"
   ]
  },
  {
   "cell_type": "code",
   "execution_count": 62,
   "metadata": {},
   "outputs": [],
   "source": [
    "#Excluindo algumas colunas que não utilizaremos\n",
    "df_join.drop([\"NM_MUN\", \"index_right\", \"geometry\", \"satelite\", \"pais\"], axis=1, inplace=True)"
   ]
  },
  {
   "cell_type": "code",
   "execution_count": 63,
   "metadata": {},
   "outputs": [
    {
     "data": {
      "text/html": [
       "<div>\n",
       "<style scoped>\n",
       "    .dataframe tbody tr th:only-of-type {\n",
       "        vertical-align: middle;\n",
       "    }\n",
       "\n",
       "    .dataframe tbody tr th {\n",
       "        vertical-align: top;\n",
       "    }\n",
       "\n",
       "    .dataframe thead th {\n",
       "        text-align: right;\n",
       "    }\n",
       "</style>\n",
       "<table border=\"1\" class=\"dataframe\">\n",
       "  <thead>\n",
       "    <tr style=\"text-align: right;\">\n",
       "      <th></th>\n",
       "      <th>datahora</th>\n",
       "      <th>estado</th>\n",
       "      <th>municipio</th>\n",
       "      <th>bioma</th>\n",
       "      <th>diasemchuva</th>\n",
       "      <th>precipitacao</th>\n",
       "      <th>riscofogo</th>\n",
       "      <th>latitude</th>\n",
       "      <th>longitude</th>\n",
       "      <th>frp</th>\n",
       "      <th>CD_MUN</th>\n",
       "      <th>SIGLA</th>\n",
       "      <th>AREA_KM2</th>\n",
       "    </tr>\n",
       "  </thead>\n",
       "  <tbody>\n",
       "    <tr>\n",
       "      <th>22</th>\n",
       "      <td>15/08/2019 17:10:00</td>\n",
       "      <td>AMAZONAS</td>\n",
       "      <td>APUI</td>\n",
       "      <td>Amazonia</td>\n",
       "      <td>6.0</td>\n",
       "      <td>0.0</td>\n",
       "      <td>0.8</td>\n",
       "      <td>-6.870</td>\n",
       "      <td>-59.918</td>\n",
       "      <td>31.8</td>\n",
       "      <td>1300144</td>\n",
       "      <td>AM</td>\n",
       "      <td>54240.545</td>\n",
       "    </tr>\n",
       "    <tr>\n",
       "      <th>24</th>\n",
       "      <td>15/08/2019 17:10:00</td>\n",
       "      <td>AMAZONAS</td>\n",
       "      <td>APUI</td>\n",
       "      <td>Amazonia</td>\n",
       "      <td>8.0</td>\n",
       "      <td>0.0</td>\n",
       "      <td>0.9</td>\n",
       "      <td>-6.909</td>\n",
       "      <td>-59.424</td>\n",
       "      <td>81.9</td>\n",
       "      <td>1300144</td>\n",
       "      <td>AM</td>\n",
       "      <td>54240.545</td>\n",
       "    </tr>\n",
       "  </tbody>\n",
       "</table>\n",
       "</div>"
      ],
      "text/plain": [
       "               datahora    estado municipio     bioma  diasemchuva  \\\n",
       "22  15/08/2019 17:10:00  AMAZONAS      APUI  Amazonia          6.0   \n",
       "24  15/08/2019 17:10:00  AMAZONAS      APUI  Amazonia          8.0   \n",
       "\n",
       "    precipitacao  riscofogo  latitude  longitude   frp   CD_MUN SIGLA  \\\n",
       "22           0.0        0.8    -6.870    -59.918  31.8  1300144    AM   \n",
       "24           0.0        0.9    -6.909    -59.424  81.9  1300144    AM   \n",
       "\n",
       "     AREA_KM2  \n",
       "22  54240.545  \n",
       "24  54240.545  "
      ]
     },
     "execution_count": 63,
     "metadata": {},
     "output_type": "execute_result"
    }
   ],
   "source": [
    "df_join.head(2)"
   ]
  },
  {
   "cell_type": "code",
   "execution_count": 64,
   "metadata": {},
   "outputs": [
    {
     "data": {
      "text/plain": [
       "(257931, 13)"
      ]
     },
     "execution_count": 64,
     "metadata": {},
     "output_type": "execute_result"
    }
   ],
   "source": [
    "# Apenas valores positivos para riscofogo e diasemchuva\n",
    "df_fina = df_join[df_join['riscofogo'] >= 0]\n",
    "df_final = df_fina[df_fina['diasemchuva'] >= 0]\n",
    "df_final.shape"
   ]
  },
  {
   "cell_type": "markdown",
   "metadata": {},
   "source": [
    "# 4. Data Modeling"
   ]
  },
  {
   "cell_type": "code",
   "execution_count": 65,
   "metadata": {},
   "outputs": [
    {
     "data": {
      "text/html": [
       "<div>\n",
       "<style scoped>\n",
       "    .dataframe tbody tr th:only-of-type {\n",
       "        vertical-align: middle;\n",
       "    }\n",
       "\n",
       "    .dataframe tbody tr th {\n",
       "        vertical-align: top;\n",
       "    }\n",
       "\n",
       "    .dataframe thead th {\n",
       "        text-align: right;\n",
       "    }\n",
       "</style>\n",
       "<table border=\"1\" class=\"dataframe\">\n",
       "  <thead>\n",
       "    <tr style=\"text-align: right;\">\n",
       "      <th></th>\n",
       "      <th>diasemchuva</th>\n",
       "      <th>precipitacao</th>\n",
       "      <th>riscofogo</th>\n",
       "      <th>latitude</th>\n",
       "      <th>longitude</th>\n",
       "      <th>frp</th>\n",
       "      <th>AREA_KM2</th>\n",
       "    </tr>\n",
       "  </thead>\n",
       "  <tbody>\n",
       "    <tr>\n",
       "      <th>count</th>\n",
       "      <td>257931.000000</td>\n",
       "      <td>257931.000000</td>\n",
       "      <td>257931.000000</td>\n",
       "      <td>257931.000000</td>\n",
       "      <td>257931.000000</td>\n",
       "      <td>257931.000000</td>\n",
       "      <td>257931.000000</td>\n",
       "    </tr>\n",
       "    <tr>\n",
       "      <th>mean</th>\n",
       "      <td>13.829881</td>\n",
       "      <td>1.182337</td>\n",
       "      <td>0.577716</td>\n",
       "      <td>-7.210240</td>\n",
       "      <td>-57.925889</td>\n",
       "      <td>64.635019</td>\n",
       "      <td>29102.265713</td>\n",
       "    </tr>\n",
       "    <tr>\n",
       "      <th>std</th>\n",
       "      <td>21.729536</td>\n",
       "      <td>3.823899</td>\n",
       "      <td>0.379038</td>\n",
       "      <td>3.773396</td>\n",
       "      <td>6.764049</td>\n",
       "      <td>157.086952</td>\n",
       "      <td>35879.490515</td>\n",
       "    </tr>\n",
       "    <tr>\n",
       "      <th>min</th>\n",
       "      <td>0.000000</td>\n",
       "      <td>0.000000</td>\n",
       "      <td>0.000000</td>\n",
       "      <td>-16.288000</td>\n",
       "      <td>-73.673660</td>\n",
       "      <td>0.000000</td>\n",
       "      <td>147.954000</td>\n",
       "    </tr>\n",
       "    <tr>\n",
       "      <th>25%</th>\n",
       "      <td>2.000000</td>\n",
       "      <td>0.000000</td>\n",
       "      <td>0.200000</td>\n",
       "      <td>-9.762000</td>\n",
       "      <td>-62.939445</td>\n",
       "      <td>14.900000</td>\n",
       "      <td>6466.223000</td>\n",
       "    </tr>\n",
       "    <tr>\n",
       "      <th>50%</th>\n",
       "      <td>5.000000</td>\n",
       "      <td>0.000000</td>\n",
       "      <td>0.700000</td>\n",
       "      <td>-7.968550</td>\n",
       "      <td>-57.289260</td>\n",
       "      <td>27.700000</td>\n",
       "      <td>14433.775000</td>\n",
       "    </tr>\n",
       "    <tr>\n",
       "      <th>75%</th>\n",
       "      <td>16.000000</td>\n",
       "      <td>0.400000</td>\n",
       "      <td>1.000000</td>\n",
       "      <td>-4.273645</td>\n",
       "      <td>-52.710305</td>\n",
       "      <td>58.400000</td>\n",
       "      <td>34090.952000</td>\n",
       "    </tr>\n",
       "    <tr>\n",
       "      <th>max</th>\n",
       "      <td>120.000000</td>\n",
       "      <td>143.000000</td>\n",
       "      <td>1.000000</td>\n",
       "      <td>5.152560</td>\n",
       "      <td>-43.717000</td>\n",
       "      <td>8589.800000</td>\n",
       "      <td>159533.306000</td>\n",
       "    </tr>\n",
       "  </tbody>\n",
       "</table>\n",
       "</div>"
      ],
      "text/plain": [
       "         diasemchuva   precipitacao      riscofogo       latitude  \\\n",
       "count  257931.000000  257931.000000  257931.000000  257931.000000   \n",
       "mean       13.829881       1.182337       0.577716      -7.210240   \n",
       "std        21.729536       3.823899       0.379038       3.773396   \n",
       "min         0.000000       0.000000       0.000000     -16.288000   \n",
       "25%         2.000000       0.000000       0.200000      -9.762000   \n",
       "50%         5.000000       0.000000       0.700000      -7.968550   \n",
       "75%        16.000000       0.400000       1.000000      -4.273645   \n",
       "max       120.000000     143.000000       1.000000       5.152560   \n",
       "\n",
       "           longitude            frp       AREA_KM2  \n",
       "count  257931.000000  257931.000000  257931.000000  \n",
       "mean      -57.925889      64.635019   29102.265713  \n",
       "std         6.764049     157.086952   35879.490515  \n",
       "min       -73.673660       0.000000     147.954000  \n",
       "25%       -62.939445      14.900000    6466.223000  \n",
       "50%       -57.289260      27.700000   14433.775000  \n",
       "75%       -52.710305      58.400000   34090.952000  \n",
       "max       -43.717000    8589.800000  159533.306000  "
      ]
     },
     "execution_count": 65,
     "metadata": {},
     "output_type": "execute_result"
    }
   ],
   "source": [
    "df_final.describe()"
   ]
  },
  {
   "cell_type": "markdown",
   "metadata": {},
   "source": [
    "### 4.1 Experimento 1"
   ]
  },
  {
   "cell_type": "code",
   "execution_count": 66,
   "metadata": {},
   "outputs": [
    {
     "data": {
      "image/png": "[encoded data removed]",
      "text/plain": [
       "<Figure size 432x288 with 1 Axes>"
      ]
     },
     "metadata": {
      "needs_background": "light"
     },
     "output_type": "display_data"
    }
   ],
   "source": [
    "df_ml = df_final.copy()\n",
    "df_linear = df_ml.filter([\"datahora\",\"riscofogo\"], axis=1)\n",
    "df_grouped = df_linear.groupby([\"datahora\"], as_index=False)\n",
    "df_grouped = pd.DataFrame(df_grouped.mean())\n",
    "df_grouped.plot(x='datahora', y='riscofogo', style='-')\n",
    "plt.title('data vs riscofogo')\n",
    "plt.xlabel('data')\n",
    "plt.ylabel('risco fogo')\n",
    "plt.show()"
   ]
  },
  {
   "cell_type": "code",
   "execution_count": 67,
   "metadata": {},
   "outputs": [
    {
     "name": "stdout",
     "output_type": "stream",
     "text": [
      "<class 'pandas.core.series.Series'>\n",
      "Int64Index: 257931 entries, 22 to 497514\n",
      "Series name: datahora\n",
      "Non-Null Count   Dtype         \n",
      "--------------   -----         \n",
      "257931 non-null  datetime64[ns]\n",
      "dtypes: datetime64[ns](1)\n",
      "memory usage: 3.9 MB\n"
     ]
    }
   ],
   "source": [
    "df_ml['datahora'] = pd.to_datetime(df_ml['datahora'])\n",
    "df_ml[\"datahora\"].info()"
   ]
  },
  {
   "cell_type": "code",
   "execution_count": 68,
   "metadata": {},
   "outputs": [
    {
     "data": {
      "image/png": "[encoded data removed]",
      "text/plain": [
       "<Figure size 1440x1080 with 1 Axes>"
      ]
     },
     "metadata": {
      "needs_background": "light"
     },
     "output_type": "display_data"
    },
    {
     "data": {
      "text/plain": [
       "datahora     0\n",
       "riscofogo    0\n",
       "dtype: int64"
      ]
     },
     "execution_count": 68,
     "metadata": {},
     "output_type": "execute_result"
    }
   ],
   "source": [
    "%matplotlib inline\n",
    "import matplotlib.pyplot as plt\n",
    "df_grouped.hist(bins=50, figsize=(20,15))\n",
    "plt.savefig(\"attribute_histogram_plots\")\n",
    "plt.show()\n",
    "#df_grouped.dropna()\n",
    "df_grouped.describe()\n",
    "df_grouped.isnull().sum()"
   ]
  },
  {
   "cell_type": "code",
   "execution_count": 69,
   "metadata": {},
   "outputs": [
    {
     "data": {
      "image/png": "[encoded data removed]",
      "text/plain": [
       "<Figure size 1440x1080 with 2 Axes>"
      ]
     },
     "metadata": {
      "needs_background": "light"
     },
     "output_type": "display_data"
    },
    {
     "data": {
      "text/plain": [
       "dtype('float64')"
      ]
     },
     "execution_count": 69,
     "metadata": {},
     "output_type": "execute_result"
    }
   ],
   "source": [
    "from datetime import datetime\n",
    "\n",
    "df_cliped = df_grouped.clip(upper=pd.Series({'riscofogo': 1.0, 'datahora': datetime.strptime('2050-01-01', '%Y-%m-%d')}), axis=1)\n",
    "df_cliped['datahora'] = pd.to_datetime(df_cliped['datahora']).values.astype(float)\n",
    "df_cliped['riscofogo'] = df_cliped['riscofogo'].astype(float)\n",
    "\n",
    "df_cliped.hist(bins=50, figsize=(20,15))\n",
    "plt.savefig(\"attribute_histogram_plots_cliped\")\n",
    "plt.show()\n",
    "df_cliped[\"riscofogo\"].dtype\n"
   ]
  },
  {
   "cell_type": "code",
   "execution_count": 76,
   "metadata": {},
   "outputs": [],
   "source": [
    "#df_final['diasemchuva'].corr(df_final['riscofogo'])"
   ]
  },
  {
   "cell_type": "code",
   "execution_count": 70,
   "metadata": {},
   "outputs": [
    {
     "name": "stdout",
     "output_type": "stream",
     "text": [
      "Risco Fogo\n"
     ]
    },
    {
     "data": {
      "text/plain": [
       "longitude       0.043686\n",
       "frp             0.122052\n",
       "AREA_KM2        0.167426\n",
       "latitude        0.168280\n",
       "precipitacao    0.379536\n",
       "diasemchuva     0.506518\n",
       "riscofogo       1.000000\n",
       "Name: riscofogo, dtype: float64"
      ]
     },
     "metadata": {},
     "output_type": "display_data"
    }
   ],
   "source": [
    "corr_matrix1 = df_ml.corr().abs()\n",
    "corr_matrix1 = corr_matrix1['riscofogo'].sort_values()\n",
    "print('Risco Fogo')\n",
    "display(corr_matrix1)"
   ]
  },
  {
   "cell_type": "code",
   "execution_count": 78,
   "metadata": {
    "scrolled": true
   },
   "outputs": [],
   "source": [
    "#Vamos ver a correlação graficamente - Matriz de correlação\n",
    "#f, ax = plt.subplots(figsize=(10, 8))\n",
    "#sns.heatmap(corr_matrix1, cmap=sns.color_palette(\"Blues\"), linewidths=.5, annot=True);"
   ]
  },
  {
   "cell_type": "code",
   "execution_count": 71,
   "metadata": {},
   "outputs": [],
   "source": [
    "#Fazendo os imports da biblioteca sklearn\n",
    "from sklearn.model_selection import train_test_split\n",
    "from sklearn.linear_model import LinearRegression\n",
    "from sklearn import metrics\n",
    "from sklearn.ensemble import RandomForestRegressor\n",
    "from sklearn import ensemble\n",
    "from sklearn.ensemble import GradientBoostingRegressor\n",
    "from sklearn.neural_network import MLPRegressor\n",
    "from sklearn.datasets import make_regression"
   ]
  },
  {
   "cell_type": "code",
   "execution_count": 72,
   "metadata": {},
   "outputs": [],
   "source": [
    "#Criação das variáveis \"X\" e \"y\n",
    "X = df_cliped.iloc[:, :-1].values # todas as colunas menos a ultima\n",
    "y = df_cliped.iloc[:, 1].values # só a ultima"
   ]
  },
  {
   "cell_type": "code",
   "execution_count": 73,
   "metadata": {},
   "outputs": [],
   "source": [
    "#Divisão da base de dados entre teste e treinamento\n",
    "X_train, X_test, y_train, y_test = train_test_split(X, y, test_size=0.2, random_state=0)"
   ]
  },
  {
   "cell_type": "markdown",
   "metadata": {},
   "source": [
    "### 4.1.1. Modelo 1"
   ]
  },
  {
   "cell_type": "code",
   "execution_count": 74,
   "metadata": {},
   "outputs": [
    {
     "data": {
      "text/plain": [
       "LinearRegression()"
      ]
     },
     "execution_count": 74,
     "metadata": {},
     "output_type": "execute_result"
    }
   ],
   "source": [
    "#Criação e trinamento do modelo 1\n",
    "model1 = LinearRegression()\n",
    "model1.fit(X_train, y_train)"
   ]
  },
  {
   "cell_type": "code",
   "execution_count": 75,
   "metadata": {},
   "outputs": [],
   "source": [
    "#Previsões utilizando a base de teste\n",
    "y_pred_model1 = model1.predict(X_test)\n",
    "#print(\"Acurácia de previsão: \", accuracy_score(y_test, y_pred))\n",
    "#pd.DataFrame({'Actual': y_test, 'Predicted': y_pred})\n",
    "#print(y_pred_model1)"
   ]
  },
  {
   "cell_type": "code",
   "execution_count": 76,
   "metadata": {},
   "outputs": [
    {
     "name": "stdout",
     "output_type": "stream",
     "text": [
      "Mean Absolute Error: 0.2760667653955196\n",
      "Mean Squared Error: 0.10042313792600699\n",
      "Root Mean Squared Error: 0.31689609957525033\n"
     ]
    }
   ],
   "source": [
    "#Métricas de avaliação do Modelo 1 - Cálculo do erro\n",
    "print('Mean Absolute Error:', metrics.mean_absolute_error(y_test, y_pred_model1))\n",
    "print('Mean Squared Error:', metrics.mean_squared_error(y_test, y_pred_model1))\n",
    "print('Root Mean Squared Error:', np.sqrt(metrics.mean_squared_error(y_test, y_pred_model1)))"
   ]
  },
  {
   "cell_type": "markdown",
   "metadata": {},
   "source": [
    "### 4.1.2. Modelo 2"
   ]
  },
  {
   "cell_type": "code",
   "execution_count": 77,
   "metadata": {},
   "outputs": [],
   "source": [
    "#Criação e trinamento do modelo 2\n",
    "model2 = RandomForestRegressor(random_state=42)\n",
    "model2.fit(X_train, y_train)\n",
    "\n",
    "#Previsões utilizando a base de teste\n",
    "y_pred_model2 = model2.predict(X_test)"
   ]
  },
  {
   "cell_type": "code",
   "execution_count": 78,
   "metadata": {},
   "outputs": [
    {
     "name": "stdout",
     "output_type": "stream",
     "text": [
      "Mean Absolute Error: 0.2798901214909034\n",
      "Mean Squared Error: 0.12935916799784417\n",
      "Root Mean Squared Error: 0.35966535557076407\n"
     ]
    }
   ],
   "source": [
    "#Métricas de avaliação do Modelo 2\n",
    "print('Mean Absolute Error:', metrics.mean_absolute_error(y_test, y_pred_model2))\n",
    "print('Mean Squared Error:', metrics.mean_squared_error(y_test, y_pred_model2))\n",
    "print('Root Mean Squared Error:', np.sqrt(metrics.mean_squared_error(y_test, y_pred_model2)))"
   ]
  },
  {
   "cell_type": "markdown",
   "metadata": {},
   "source": [
    "### 4.1.3. Modelo 3"
   ]
  },
  {
   "cell_type": "code",
   "execution_count": 79,
   "metadata": {},
   "outputs": [],
   "source": [
    "#Criação e trinamento do modelo 3\n",
    "model3 = ensemble.GradientBoostingRegressor()\n",
    "model3.fit(X_train, y_train)\n",
    "\n",
    "#Previsões utilizando a base de teste\n",
    "y_pred_model3 = model3.predict(X_test)"
   ]
  },
  {
   "cell_type": "code",
   "execution_count": 80,
   "metadata": {},
   "outputs": [
    {
     "name": "stdout",
     "output_type": "stream",
     "text": [
      "Mean Absolute Error: 0.2556849259031889\n",
      "Mean Squared Error: 0.09232295627676414\n",
      "Root Mean Squared Error: 0.3038469290230924\n"
     ]
    }
   ],
   "source": [
    "#Métricas de avaliação do Modelo 3\n",
    "print('Mean Absolute Error:', metrics.mean_absolute_error(y_test, y_pred_model3))\n",
    "print('Mean Squared Error:', metrics.mean_squared_error(y_test, y_pred_model3))\n",
    "print('Root Mean Squared Error:', np.sqrt(metrics.mean_squared_error(y_test, y_pred_model3)))"
   ]
  },
  {
   "cell_type": "code",
   "execution_count": 81,
   "metadata": {},
   "outputs": [],
   "source": [
    "# print([X_test[:,0].ndim,\n",
    "#      y_test.ndim,\n",
    "#      y_pred_model2.ndim])"
   ]
  },
  {
   "cell_type": "code",
   "execution_count": 83,
   "metadata": {},
   "outputs": [
    {
     "data": {
      "image/png": "[encoded data removed]",
      "text/plain": [
       "<Figure size 640x320 with 1 Axes>"
      ]
     },
     "metadata": {
      "needs_background": "light"
     },
     "output_type": "display_data"
    }
   ],
   "source": [
    "first_x_rows = 40\n",
    "df_real = pd.DataFrame({\n",
    "    'datahora': X_test[:first_x_rows,0],\n",
    "    'riscofogo': y_test[:first_x_rows]\n",
    "    }).sort_values(by=['datahora'])\n",
    "\n",
    "df_pred = pd.DataFrame({\n",
    "    'datahora': X_test[:first_x_rows,0],\n",
    "    'riscofogo': y_pred_model2[:first_x_rows]\n",
    "    }).sort_values(by=['datahora'])\n",
    "\n",
    "\n",
    "from matplotlib.pyplot import figure\n",
    "figure(figsize=(8, 4)\n",
    "       , dpi=80)\n",
    "\n",
    "plt.plot(df_real[\"datahora\"], df_real[\"riscofogo\"], label = \"real data\")\n",
    "plt.plot(df_pred[\"datahora\"], df_pred[\"riscofogo\"], label = \"predicted data\")\n",
    "plt.title('data vs risco fogo')\n",
    "plt.xlabel('data')\n",
    "plt.ylabel('risco fogo')\n",
    "plt.show()"
   ]
  },
  {
   "cell_type": "code",
   "execution_count": 84,
   "metadata": {},
   "outputs": [],
   "source": [
    "#my_array = np.array([[11,22,33],[44,55,66]])\n",
    "\n",
    "#df_df = pd.DataFrame(X_test, columns = ['col1'])\n",
    "\n",
    "#print(df_df)\n",
    "#print(type(df_df))"
   ]
  },
  {
   "cell_type": "markdown",
   "metadata": {},
   "source": [
    "### 4.2. Experimento 2"
   ]
  },
  {
   "cell_type": "code",
   "execution_count": 85,
   "metadata": {},
   "outputs": [],
   "source": [
    "df_final2 = df_final.copy()\n",
    "#df_encoded = (df_final2.copy())"
   ]
  },
  {
   "cell_type": "code",
   "execution_count": 86,
   "metadata": {},
   "outputs": [
    {
     "data": {
      "text/plain": [
       "(257931, 13)"
      ]
     },
     "execution_count": 86,
     "metadata": {},
     "output_type": "execute_result"
    }
   ],
   "source": [
    "df_final.shape"
   ]
  },
  {
   "cell_type": "code",
   "execution_count": 87,
   "metadata": {},
   "outputs": [
    {
     "data": {
      "text/plain": [
       "(257931, 13)"
      ]
     },
     "execution_count": 87,
     "metadata": {},
     "output_type": "execute_result"
    }
   ],
   "source": [
    "df_final2.shape"
   ]
  },
  {
   "cell_type": "code",
   "execution_count": 88,
   "metadata": {},
   "outputs": [],
   "source": [
    "#df_encoded.tail(10)"
   ]
  },
  {
   "cell_type": "code",
   "execution_count": 89,
   "metadata": {},
   "outputs": [],
   "source": [
    "def encode_estado(df_final2):\n",
    "    '''\n",
    "    One hot encode estados dataframe df_final2 \n",
    "    \n",
    "    INPUT:\n",
    "    municipios - estados do bioma Amazonia para serem encoded\n",
    "    \n",
    "    OUTPUT:\n",
    "    municipios - dataframe com one hot encode nos estados do bioma Amazonia\n",
    "    \n",
    "    '''\n",
    "     # one-hot encode channels column\n",
    "    estados = ['PARA', 'MATO GROSSO', 'RONDONIA', 'ACRE', 'MARANHAO', 'RORAIMA', 'AMAZONAS', 'TOCANTINS']\n",
    "\n",
    "    for estado in estados:\n",
    "        df_final2[estado] = df_final2.estado.apply(lambda x: estado in x)*1\n",
    "        \n",
    "    # Drop original columns\n",
    "    #df_final2.drop(['municipio'],axis=1 ,inplace=True)\n",
    "    \n",
    "    #for col in [\"email\", \"mobile\", \"social\", \"web\"]:\n",
    "    #    df_final2.rename(columns={col: (\"channel_\" + col)}, inplace=True)\n",
    "\n",
    "    \n",
    "    return df_final2"
   ]
  },
  {
   "cell_type": "code",
   "execution_count": 90,
   "metadata": {},
   "outputs": [],
   "source": [
    "df_encoded = encode_estado(df_final2.copy())"
   ]
  },
  {
   "cell_type": "code",
   "execution_count": 91,
   "metadata": {},
   "outputs": [],
   "source": [
    "#Exclusão de algumas colunas que não vamos utilizar\n",
    "df_encoded.drop([\"bioma\", \"municipio\", \"SIGLA\", \"CD_MUN\"], axis=1, inplace=True)"
   ]
  },
  {
   "cell_type": "code",
   "execution_count": 92,
   "metadata": {},
   "outputs": [
    {
     "data": {
      "text/html": [
       "<div>\n",
       "<style scoped>\n",
       "    .dataframe tbody tr th:only-of-type {\n",
       "        vertical-align: middle;\n",
       "    }\n",
       "\n",
       "    .dataframe tbody tr th {\n",
       "        vertical-align: top;\n",
       "    }\n",
       "\n",
       "    .dataframe thead th {\n",
       "        text-align: right;\n",
       "    }\n",
       "</style>\n",
       "<table border=\"1\" class=\"dataframe\">\n",
       "  <thead>\n",
       "    <tr style=\"text-align: right;\">\n",
       "      <th></th>\n",
       "      <th>datahora</th>\n",
       "      <th>estado</th>\n",
       "      <th>diasemchuva</th>\n",
       "      <th>precipitacao</th>\n",
       "      <th>riscofogo</th>\n",
       "      <th>latitude</th>\n",
       "      <th>longitude</th>\n",
       "      <th>frp</th>\n",
       "      <th>AREA_KM2</th>\n",
       "      <th>PARA</th>\n",
       "      <th>MATO GROSSO</th>\n",
       "      <th>RONDONIA</th>\n",
       "      <th>ACRE</th>\n",
       "      <th>MARANHAO</th>\n",
       "      <th>RORAIMA</th>\n",
       "      <th>AMAZONAS</th>\n",
       "      <th>TOCANTINS</th>\n",
       "    </tr>\n",
       "  </thead>\n",
       "  <tbody>\n",
       "    <tr>\n",
       "      <th>548404</th>\n",
       "      <td>09/09/2021 16:48:00</td>\n",
       "      <td>TOCANTINS</td>\n",
       "      <td>6.0</td>\n",
       "      <td>0.0</td>\n",
       "      <td>1.0</td>\n",
       "      <td>-9.23414</td>\n",
       "      <td>-48.71741</td>\n",
       "      <td>130.6</td>\n",
       "      <td>1033.301</td>\n",
       "      <td>0</td>\n",
       "      <td>0</td>\n",
       "      <td>0</td>\n",
       "      <td>0</td>\n",
       "      <td>0</td>\n",
       "      <td>0</td>\n",
       "      <td>0</td>\n",
       "      <td>1</td>\n",
       "    </tr>\n",
       "    <tr>\n",
       "      <th>548406</th>\n",
       "      <td>09/09/2021 16:48:00</td>\n",
       "      <td>TOCANTINS</td>\n",
       "      <td>5.0</td>\n",
       "      <td>0.0</td>\n",
       "      <td>1.0</td>\n",
       "      <td>-9.23274</td>\n",
       "      <td>-48.70706</td>\n",
       "      <td>112.1</td>\n",
       "      <td>1033.301</td>\n",
       "      <td>0</td>\n",
       "      <td>0</td>\n",
       "      <td>0</td>\n",
       "      <td>0</td>\n",
       "      <td>0</td>\n",
       "      <td>0</td>\n",
       "      <td>0</td>\n",
       "      <td>1</td>\n",
       "    </tr>\n",
       "    <tr>\n",
       "      <th>465406</th>\n",
       "      <td>06/09/2020 16:45:00</td>\n",
       "      <td>TOCANTINS</td>\n",
       "      <td>98.0</td>\n",
       "      <td>0.0</td>\n",
       "      <td>1.0</td>\n",
       "      <td>-9.24300</td>\n",
       "      <td>-48.77000</td>\n",
       "      <td>43.2</td>\n",
       "      <td>3747.645</td>\n",
       "      <td>0</td>\n",
       "      <td>0</td>\n",
       "      <td>0</td>\n",
       "      <td>0</td>\n",
       "      <td>0</td>\n",
       "      <td>0</td>\n",
       "      <td>0</td>\n",
       "      <td>1</td>\n",
       "    </tr>\n",
       "    <tr>\n",
       "      <th>497512</th>\n",
       "      <td>12/08/2021 16:22:00</td>\n",
       "      <td>MARANHAO</td>\n",
       "      <td>11.0</td>\n",
       "      <td>0.1</td>\n",
       "      <td>1.0</td>\n",
       "      <td>-5.38315</td>\n",
       "      <td>-47.00475</td>\n",
       "      <td>15.9</td>\n",
       "      <td>820.968</td>\n",
       "      <td>0</td>\n",
       "      <td>0</td>\n",
       "      <td>0</td>\n",
       "      <td>0</td>\n",
       "      <td>1</td>\n",
       "      <td>0</td>\n",
       "      <td>0</td>\n",
       "      <td>0</td>\n",
       "    </tr>\n",
       "    <tr>\n",
       "      <th>497514</th>\n",
       "      <td>12/08/2021 16:22:00</td>\n",
       "      <td>MARANHAO</td>\n",
       "      <td>11.0</td>\n",
       "      <td>0.2</td>\n",
       "      <td>1.0</td>\n",
       "      <td>-5.37879</td>\n",
       "      <td>-46.99350</td>\n",
       "      <td>52.5</td>\n",
       "      <td>820.968</td>\n",
       "      <td>0</td>\n",
       "      <td>0</td>\n",
       "      <td>0</td>\n",
       "      <td>0</td>\n",
       "      <td>1</td>\n",
       "      <td>0</td>\n",
       "      <td>0</td>\n",
       "      <td>0</td>\n",
       "    </tr>\n",
       "  </tbody>\n",
       "</table>\n",
       "</div>"
      ],
      "text/plain": [
       "                   datahora     estado  diasemchuva  precipitacao  riscofogo  \\\n",
       "548404  09/09/2021 16:48:00  TOCANTINS          6.0           0.0        1.0   \n",
       "548406  09/09/2021 16:48:00  TOCANTINS          5.0           0.0        1.0   \n",
       "465406  06/09/2020 16:45:00  TOCANTINS         98.0           0.0        1.0   \n",
       "497512  12/08/2021 16:22:00   MARANHAO         11.0           0.1        1.0   \n",
       "497514  12/08/2021 16:22:00   MARANHAO         11.0           0.2        1.0   \n",
       "\n",
       "        latitude  longitude    frp  AREA_KM2  PARA  MATO GROSSO  RONDONIA  \\\n",
       "548404  -9.23414  -48.71741  130.6  1033.301     0            0         0   \n",
       "548406  -9.23274  -48.70706  112.1  1033.301     0            0         0   \n",
       "465406  -9.24300  -48.77000   43.2  3747.645     0            0         0   \n",
       "497512  -5.38315  -47.00475   15.9   820.968     0            0         0   \n",
       "497514  -5.37879  -46.99350   52.5   820.968     0            0         0   \n",
       "\n",
       "        ACRE  MARANHAO  RORAIMA  AMAZONAS  TOCANTINS  \n",
       "548404     0         0        0         0          1  \n",
       "548406     0         0        0         0          1  \n",
       "465406     0         0        0         0          1  \n",
       "497512     0         1        0         0          0  \n",
       "497514     0         1        0         0          0  "
      ]
     },
     "execution_count": 92,
     "metadata": {},
     "output_type": "execute_result"
    }
   ],
   "source": [
    "df_encoded.tail(5)"
   ]
  },
  {
   "cell_type": "code",
   "execution_count": 93,
   "metadata": {},
   "outputs": [],
   "source": [
    "#Exclusão de colunas que não iremos utilizar\n",
    "df_encoded.drop([\"estado\", \"AREA_KM2\"], axis=1, inplace=True)"
   ]
  },
  {
   "cell_type": "code",
   "execution_count": 94,
   "metadata": {},
   "outputs": [
    {
     "data": {
      "text/html": [
       "<div>\n",
       "<style scoped>\n",
       "    .dataframe tbody tr th:only-of-type {\n",
       "        vertical-align: middle;\n",
       "    }\n",
       "\n",
       "    .dataframe tbody tr th {\n",
       "        vertical-align: top;\n",
       "    }\n",
       "\n",
       "    .dataframe thead th {\n",
       "        text-align: right;\n",
       "    }\n",
       "</style>\n",
       "<table border=\"1\" class=\"dataframe\">\n",
       "  <thead>\n",
       "    <tr style=\"text-align: right;\">\n",
       "      <th></th>\n",
       "      <th>datahora</th>\n",
       "      <th>diasemchuva</th>\n",
       "      <th>precipitacao</th>\n",
       "      <th>riscofogo</th>\n",
       "      <th>latitude</th>\n",
       "      <th>longitude</th>\n",
       "      <th>frp</th>\n",
       "      <th>PARA</th>\n",
       "      <th>MATO GROSSO</th>\n",
       "      <th>RONDONIA</th>\n",
       "      <th>ACRE</th>\n",
       "      <th>MARANHAO</th>\n",
       "      <th>RORAIMA</th>\n",
       "      <th>AMAZONAS</th>\n",
       "      <th>TOCANTINS</th>\n",
       "    </tr>\n",
       "  </thead>\n",
       "  <tbody>\n",
       "    <tr>\n",
       "      <th>148529</th>\n",
       "      <td>10/09/2019 17:45:00</td>\n",
       "      <td>2.0</td>\n",
       "      <td>1.3</td>\n",
       "      <td>0.2</td>\n",
       "      <td>-9.36700</td>\n",
       "      <td>-56.94000</td>\n",
       "      <td>123.9</td>\n",
       "      <td>0</td>\n",
       "      <td>1</td>\n",
       "      <td>0</td>\n",
       "      <td>0</td>\n",
       "      <td>0</td>\n",
       "      <td>0</td>\n",
       "      <td>0</td>\n",
       "      <td>0</td>\n",
       "    </tr>\n",
       "    <tr>\n",
       "      <th>253074</th>\n",
       "      <td>01/08/2020 17:10:00</td>\n",
       "      <td>18.0</td>\n",
       "      <td>0.0</td>\n",
       "      <td>0.8</td>\n",
       "      <td>-5.79900</td>\n",
       "      <td>-57.70500</td>\n",
       "      <td>24.5</td>\n",
       "      <td>1</td>\n",
       "      <td>0</td>\n",
       "      <td>0</td>\n",
       "      <td>0</td>\n",
       "      <td>0</td>\n",
       "      <td>0</td>\n",
       "      <td>0</td>\n",
       "      <td>0</td>\n",
       "    </tr>\n",
       "    <tr>\n",
       "      <th>421998</th>\n",
       "      <td>18/08/2021 17:24:00</td>\n",
       "      <td>4.0</td>\n",
       "      <td>0.0</td>\n",
       "      <td>0.6</td>\n",
       "      <td>-6.04086</td>\n",
       "      <td>-53.22702</td>\n",
       "      <td>49.6</td>\n",
       "      <td>1</td>\n",
       "      <td>0</td>\n",
       "      <td>0</td>\n",
       "      <td>0</td>\n",
       "      <td>0</td>\n",
       "      <td>0</td>\n",
       "      <td>0</td>\n",
       "      <td>0</td>\n",
       "    </tr>\n",
       "    <tr>\n",
       "      <th>135572</th>\n",
       "      <td>14/09/2019 17:20:00</td>\n",
       "      <td>20.0</td>\n",
       "      <td>0.0</td>\n",
       "      <td>1.0</td>\n",
       "      <td>-11.30600</td>\n",
       "      <td>-53.94200</td>\n",
       "      <td>32.0</td>\n",
       "      <td>0</td>\n",
       "      <td>1</td>\n",
       "      <td>0</td>\n",
       "      <td>0</td>\n",
       "      <td>0</td>\n",
       "      <td>0</td>\n",
       "      <td>0</td>\n",
       "      <td>0</td>\n",
       "    </tr>\n",
       "    <tr>\n",
       "      <th>446578</th>\n",
       "      <td>03/10/2021 17:34:00</td>\n",
       "      <td>1.0</td>\n",
       "      <td>0.0</td>\n",
       "      <td>0.2</td>\n",
       "      <td>-11.07493</td>\n",
       "      <td>-58.90463</td>\n",
       "      <td>42.6</td>\n",
       "      <td>0</td>\n",
       "      <td>1</td>\n",
       "      <td>0</td>\n",
       "      <td>0</td>\n",
       "      <td>0</td>\n",
       "      <td>0</td>\n",
       "      <td>0</td>\n",
       "      <td>0</td>\n",
       "    </tr>\n",
       "    <tr>\n",
       "      <th>327710</th>\n",
       "      <td>08/10/2020 16:45:00</td>\n",
       "      <td>2.0</td>\n",
       "      <td>0.0</td>\n",
       "      <td>1.0</td>\n",
       "      <td>-7.77900</td>\n",
       "      <td>-49.98800</td>\n",
       "      <td>23.6</td>\n",
       "      <td>1</td>\n",
       "      <td>0</td>\n",
       "      <td>0</td>\n",
       "      <td>0</td>\n",
       "      <td>0</td>\n",
       "      <td>0</td>\n",
       "      <td>0</td>\n",
       "      <td>0</td>\n",
       "    </tr>\n",
       "    <tr>\n",
       "      <th>509255</th>\n",
       "      <td>11/08/2021 17:17:00</td>\n",
       "      <td>8.0</td>\n",
       "      <td>0.0</td>\n",
       "      <td>0.9</td>\n",
       "      <td>-6.19547</td>\n",
       "      <td>-52.72557</td>\n",
       "      <td>184.5</td>\n",
       "      <td>1</td>\n",
       "      <td>0</td>\n",
       "      <td>0</td>\n",
       "      <td>0</td>\n",
       "      <td>0</td>\n",
       "      <td>0</td>\n",
       "      <td>0</td>\n",
       "      <td>0</td>\n",
       "    </tr>\n",
       "    <tr>\n",
       "      <th>201932</th>\n",
       "      <td>07/11/2020 17:00:00</td>\n",
       "      <td>0.0</td>\n",
       "      <td>4.4</td>\n",
       "      <td>0.0</td>\n",
       "      <td>-2.99200</td>\n",
       "      <td>-51.55800</td>\n",
       "      <td>15.2</td>\n",
       "      <td>1</td>\n",
       "      <td>0</td>\n",
       "      <td>0</td>\n",
       "      <td>0</td>\n",
       "      <td>0</td>\n",
       "      <td>0</td>\n",
       "      <td>0</td>\n",
       "      <td>0</td>\n",
       "    </tr>\n",
       "    <tr>\n",
       "      <th>22945</th>\n",
       "      <td>03/08/2019 18:20:00</td>\n",
       "      <td>10.0</td>\n",
       "      <td>0.0</td>\n",
       "      <td>0.9</td>\n",
       "      <td>-9.93900</td>\n",
       "      <td>-67.77700</td>\n",
       "      <td>11.3</td>\n",
       "      <td>0</td>\n",
       "      <td>0</td>\n",
       "      <td>0</td>\n",
       "      <td>1</td>\n",
       "      <td>0</td>\n",
       "      <td>0</td>\n",
       "      <td>0</td>\n",
       "      <td>0</td>\n",
       "    </tr>\n",
       "    <tr>\n",
       "      <th>525990</th>\n",
       "      <td>26/06/2021 17:00:00</td>\n",
       "      <td>36.0</td>\n",
       "      <td>0.0</td>\n",
       "      <td>0.8</td>\n",
       "      <td>-12.06400</td>\n",
       "      <td>-54.01900</td>\n",
       "      <td>17.5</td>\n",
       "      <td>0</td>\n",
       "      <td>1</td>\n",
       "      <td>0</td>\n",
       "      <td>0</td>\n",
       "      <td>0</td>\n",
       "      <td>0</td>\n",
       "      <td>0</td>\n",
       "      <td>0</td>\n",
       "    </tr>\n",
       "  </tbody>\n",
       "</table>\n",
       "</div>"
      ],
      "text/plain": [
       "                   datahora  diasemchuva  precipitacao  riscofogo  latitude  \\\n",
       "148529  10/09/2019 17:45:00          2.0           1.3        0.2  -9.36700   \n",
       "253074  01/08/2020 17:10:00         18.0           0.0        0.8  -5.79900   \n",
       "421998  18/08/2021 17:24:00          4.0           0.0        0.6  -6.04086   \n",
       "135572  14/09/2019 17:20:00         20.0           0.0        1.0 -11.30600   \n",
       "446578  03/10/2021 17:34:00          1.0           0.0        0.2 -11.07493   \n",
       "327710  08/10/2020 16:45:00          2.0           0.0        1.0  -7.77900   \n",
       "509255  11/08/2021 17:17:00          8.0           0.0        0.9  -6.19547   \n",
       "201932  07/11/2020 17:00:00          0.0           4.4        0.0  -2.99200   \n",
       "22945   03/08/2019 18:20:00         10.0           0.0        0.9  -9.93900   \n",
       "525990  26/06/2021 17:00:00         36.0           0.0        0.8 -12.06400   \n",
       "\n",
       "        longitude    frp  PARA  MATO GROSSO  RONDONIA  ACRE  MARANHAO  \\\n",
       "148529  -56.94000  123.9     0            1         0     0         0   \n",
       "253074  -57.70500   24.5     1            0         0     0         0   \n",
       "421998  -53.22702   49.6     1            0         0     0         0   \n",
       "135572  -53.94200   32.0     0            1         0     0         0   \n",
       "446578  -58.90463   42.6     0            1         0     0         0   \n",
       "327710  -49.98800   23.6     1            0         0     0         0   \n",
       "509255  -52.72557  184.5     1            0         0     0         0   \n",
       "201932  -51.55800   15.2     1            0         0     0         0   \n",
       "22945   -67.77700   11.3     0            0         0     1         0   \n",
       "525990  -54.01900   17.5     0            1         0     0         0   \n",
       "\n",
       "        RORAIMA  AMAZONAS  TOCANTINS  \n",
       "148529        0         0          0  \n",
       "253074        0         0          0  \n",
       "421998        0         0          0  \n",
       "135572        0         0          0  \n",
       "446578        0         0          0  \n",
       "327710        0         0          0  \n",
       "509255        0         0          0  \n",
       "201932        0         0          0  \n",
       "22945         0         0          0  \n",
       "525990        0         0          0  "
      ]
     },
     "execution_count": 94,
     "metadata": {},
     "output_type": "execute_result"
    }
   ],
   "source": [
    "df_encoded.sample(10)"
   ]
  },
  {
   "cell_type": "code",
   "execution_count": 95,
   "metadata": {},
   "outputs": [],
   "source": [
    "#df_encoded.shape"
   ]
  },
  {
   "cell_type": "code",
   "execution_count": 96,
   "metadata": {},
   "outputs": [],
   "source": [
    "#df_query2 = df_final.query('estado == \"MARANHAO\"')\n",
    "#df_query2.head()"
   ]
  },
  {
   "cell_type": "code",
   "execution_count": 97,
   "metadata": {},
   "outputs": [],
   "source": [
    "#df_query = df_encoded.query('MARANHAO == 1')\n",
    "#df_query.head()"
   ]
  },
  {
   "cell_type": "code",
   "execution_count": 98,
   "metadata": {},
   "outputs": [
    {
     "data": {
      "text/html": [
       "<div>\n",
       "<style scoped>\n",
       "    .dataframe tbody tr th:only-of-type {\n",
       "        vertical-align: middle;\n",
       "    }\n",
       "\n",
       "    .dataframe tbody tr th {\n",
       "        vertical-align: top;\n",
       "    }\n",
       "\n",
       "    .dataframe thead th {\n",
       "        text-align: right;\n",
       "    }\n",
       "</style>\n",
       "<table border=\"1\" class=\"dataframe\">\n",
       "  <thead>\n",
       "    <tr style=\"text-align: right;\">\n",
       "      <th></th>\n",
       "      <th>diasemchuva</th>\n",
       "      <th>precipitacao</th>\n",
       "      <th>riscofogo</th>\n",
       "      <th>latitude</th>\n",
       "      <th>longitude</th>\n",
       "      <th>frp</th>\n",
       "      <th>PARA</th>\n",
       "      <th>MATO GROSSO</th>\n",
       "      <th>RONDONIA</th>\n",
       "      <th>ACRE</th>\n",
       "      <th>MARANHAO</th>\n",
       "      <th>RORAIMA</th>\n",
       "      <th>AMAZONAS</th>\n",
       "      <th>TOCANTINS</th>\n",
       "    </tr>\n",
       "  </thead>\n",
       "  <tbody>\n",
       "    <tr>\n",
       "      <th>count</th>\n",
       "      <td>257931.000000</td>\n",
       "      <td>257931.000000</td>\n",
       "      <td>257931.000000</td>\n",
       "      <td>257931.000000</td>\n",
       "      <td>257931.000000</td>\n",
       "      <td>257931.000000</td>\n",
       "      <td>257931.000000</td>\n",
       "      <td>257931.000000</td>\n",
       "      <td>257931.000000</td>\n",
       "      <td>257931.000000</td>\n",
       "      <td>257931.000000</td>\n",
       "      <td>257931.000000</td>\n",
       "      <td>257931.000000</td>\n",
       "      <td>257931.000000</td>\n",
       "    </tr>\n",
       "    <tr>\n",
       "      <th>mean</th>\n",
       "      <td>13.829881</td>\n",
       "      <td>1.182337</td>\n",
       "      <td>0.577716</td>\n",
       "      <td>-7.210240</td>\n",
       "      <td>-57.925889</td>\n",
       "      <td>64.635019</td>\n",
       "      <td>0.338191</td>\n",
       "      <td>0.195669</td>\n",
       "      <td>0.123048</td>\n",
       "      <td>0.093277</td>\n",
       "      <td>0.038347</td>\n",
       "      <td>0.031299</td>\n",
       "      <td>0.166622</td>\n",
       "      <td>0.004055</td>\n",
       "    </tr>\n",
       "    <tr>\n",
       "      <th>std</th>\n",
       "      <td>21.729536</td>\n",
       "      <td>3.823899</td>\n",
       "      <td>0.379038</td>\n",
       "      <td>3.773396</td>\n",
       "      <td>6.764049</td>\n",
       "      <td>157.086952</td>\n",
       "      <td>0.473095</td>\n",
       "      <td>0.396715</td>\n",
       "      <td>0.328493</td>\n",
       "      <td>0.290821</td>\n",
       "      <td>0.192034</td>\n",
       "      <td>0.174125</td>\n",
       "      <td>0.372639</td>\n",
       "      <td>0.063552</td>\n",
       "    </tr>\n",
       "    <tr>\n",
       "      <th>min</th>\n",
       "      <td>0.000000</td>\n",
       "      <td>0.000000</td>\n",
       "      <td>0.000000</td>\n",
       "      <td>-16.288000</td>\n",
       "      <td>-73.673660</td>\n",
       "      <td>0.000000</td>\n",
       "      <td>0.000000</td>\n",
       "      <td>0.000000</td>\n",
       "      <td>0.000000</td>\n",
       "      <td>0.000000</td>\n",
       "      <td>0.000000</td>\n",
       "      <td>0.000000</td>\n",
       "      <td>0.000000</td>\n",
       "      <td>0.000000</td>\n",
       "    </tr>\n",
       "    <tr>\n",
       "      <th>25%</th>\n",
       "      <td>2.000000</td>\n",
       "      <td>0.000000</td>\n",
       "      <td>0.200000</td>\n",
       "      <td>-9.762000</td>\n",
       "      <td>-62.939445</td>\n",
       "      <td>14.900000</td>\n",
       "      <td>0.000000</td>\n",
       "      <td>0.000000</td>\n",
       "      <td>0.000000</td>\n",
       "      <td>0.000000</td>\n",
       "      <td>0.000000</td>\n",
       "      <td>0.000000</td>\n",
       "      <td>0.000000</td>\n",
       "      <td>0.000000</td>\n",
       "    </tr>\n",
       "    <tr>\n",
       "      <th>50%</th>\n",
       "      <td>5.000000</td>\n",
       "      <td>0.000000</td>\n",
       "      <td>0.700000</td>\n",
       "      <td>-7.968550</td>\n",
       "      <td>-57.289260</td>\n",
       "      <td>27.700000</td>\n",
       "      <td>0.000000</td>\n",
       "      <td>0.000000</td>\n",
       "      <td>0.000000</td>\n",
       "      <td>0.000000</td>\n",
       "      <td>0.000000</td>\n",
       "      <td>0.000000</td>\n",
       "      <td>0.000000</td>\n",
       "      <td>0.000000</td>\n",
       "    </tr>\n",
       "    <tr>\n",
       "      <th>75%</th>\n",
       "      <td>16.000000</td>\n",
       "      <td>0.400000</td>\n",
       "      <td>1.000000</td>\n",
       "      <td>-4.273645</td>\n",
       "      <td>-52.710305</td>\n",
       "      <td>58.400000</td>\n",
       "      <td>1.000000</td>\n",
       "      <td>0.000000</td>\n",
       "      <td>0.000000</td>\n",
       "      <td>0.000000</td>\n",
       "      <td>0.000000</td>\n",
       "      <td>0.000000</td>\n",
       "      <td>0.000000</td>\n",
       "      <td>0.000000</td>\n",
       "    </tr>\n",
       "    <tr>\n",
       "      <th>max</th>\n",
       "      <td>120.000000</td>\n",
       "      <td>143.000000</td>\n",
       "      <td>1.000000</td>\n",
       "      <td>5.152560</td>\n",
       "      <td>-43.717000</td>\n",
       "      <td>8589.800000</td>\n",
       "      <td>1.000000</td>\n",
       "      <td>1.000000</td>\n",
       "      <td>1.000000</td>\n",
       "      <td>1.000000</td>\n",
       "      <td>1.000000</td>\n",
       "      <td>1.000000</td>\n",
       "      <td>1.000000</td>\n",
       "      <td>1.000000</td>\n",
       "    </tr>\n",
       "  </tbody>\n",
       "</table>\n",
       "</div>"
      ],
      "text/plain": [
       "         diasemchuva   precipitacao      riscofogo       latitude  \\\n",
       "count  257931.000000  257931.000000  257931.000000  257931.000000   \n",
       "mean       13.829881       1.182337       0.577716      -7.210240   \n",
       "std        21.729536       3.823899       0.379038       3.773396   \n",
       "min         0.000000       0.000000       0.000000     -16.288000   \n",
       "25%         2.000000       0.000000       0.200000      -9.762000   \n",
       "50%         5.000000       0.000000       0.700000      -7.968550   \n",
       "75%        16.000000       0.400000       1.000000      -4.273645   \n",
       "max       120.000000     143.000000       1.000000       5.152560   \n",
       "\n",
       "           longitude            frp           PARA    MATO GROSSO  \\\n",
       "count  257931.000000  257931.000000  257931.000000  257931.000000   \n",
       "mean      -57.925889      64.635019       0.338191       0.195669   \n",
       "std         6.764049     157.086952       0.473095       0.396715   \n",
       "min       -73.673660       0.000000       0.000000       0.000000   \n",
       "25%       -62.939445      14.900000       0.000000       0.000000   \n",
       "50%       -57.289260      27.700000       0.000000       0.000000   \n",
       "75%       -52.710305      58.400000       1.000000       0.000000   \n",
       "max       -43.717000    8589.800000       1.000000       1.000000   \n",
       "\n",
       "            RONDONIA           ACRE       MARANHAO        RORAIMA  \\\n",
       "count  257931.000000  257931.000000  257931.000000  257931.000000   \n",
       "mean        0.123048       0.093277       0.038347       0.031299   \n",
       "std         0.328493       0.290821       0.192034       0.174125   \n",
       "min         0.000000       0.000000       0.000000       0.000000   \n",
       "25%         0.000000       0.000000       0.000000       0.000000   \n",
       "50%         0.000000       0.000000       0.000000       0.000000   \n",
       "75%         0.000000       0.000000       0.000000       0.000000   \n",
       "max         1.000000       1.000000       1.000000       1.000000   \n",
       "\n",
       "            AMAZONAS      TOCANTINS  \n",
       "count  257931.000000  257931.000000  \n",
       "mean        0.166622       0.004055  \n",
       "std         0.372639       0.063552  \n",
       "min         0.000000       0.000000  \n",
       "25%         0.000000       0.000000  \n",
       "50%         0.000000       0.000000  \n",
       "75%         0.000000       0.000000  \n",
       "max         1.000000       1.000000  "
      ]
     },
     "execution_count": 98,
     "metadata": {},
     "output_type": "execute_result"
    }
   ],
   "source": [
    "df_encoded.describe()"
   ]
  },
  {
   "cell_type": "code",
   "execution_count": 99,
   "metadata": {},
   "outputs": [
    {
     "data": {
      "image/png": "[encoded data removed]",
      "text/plain": [
       "<Figure size 1440x1080 with 16 Axes>"
      ]
     },
     "metadata": {
      "needs_background": "light"
     },
     "output_type": "display_data"
    }
   ],
   "source": [
    "#Plotando um Histograma pra cada atributo numérico\n",
    "from datetime import datetime\n",
    "\n",
    "df_cliped2 = df_encoded.clip(upper=pd.Series({'riscofogo': 1.0, 'diasemchuva': 55.0, \n",
    "                                              'precipitacao': 9.0, 'latitude': 10000000.0, 'longitude': 10000000.0, \n",
    "                                              'frp': 400.0, 'PARA': 1.0, 'MATO GROSSO': 1.0, 'AMAZONAS': 1.0, 'RONDONIA': 1.0, \n",
    "                                              'ACRE': 1.0, 'MARANHAO': 1.0, 'RORAIMA': 1.0, 'TOCANTINS': 1.0,\n",
    "                                              'datahora': datetime.strptime('2050-01-01', '%Y-%m-%d')}), axis=1)\n",
    "\n",
    "df_cliped2['datahora'] = pd.to_datetime(df_cliped2['datahora']).values.astype(float)\n",
    "df_cliped2['riscofogo'] = df_cliped2['riscofogo'].astype(float)\n",
    "df_cliped2['precipitacao'] = df_cliped2['precipitacao'].astype(float)\n",
    "df_cliped2['latitude'] = df_cliped2['latitude'].astype(float)\n",
    "df_cliped2['longitude'] = df_cliped2['longitude'].astype(float)\n",
    "df_cliped2['frp'] = df_cliped2['frp'].astype(float)\n",
    "df_cliped2['PARA'] = df_cliped2['PARA'].astype(float)\n",
    "df_cliped2['MATO GROSSO'] = df_cliped2['MATO GROSSO'].astype(float)\n",
    "df_cliped2['AMAZONAS'] = df_cliped2['AMAZONAS'].astype(float)\n",
    "df_cliped2['RONDONIA'] = df_cliped2['RONDONIA'].astype(float)\n",
    "df_cliped2['ACRE'] = df_cliped2['ACRE'].astype(float)\n",
    "df_cliped2['MARANHAO'] = df_cliped2['MARANHAO'].astype(float)\n",
    "df_cliped2['RORAIMA'] = df_cliped2['RORAIMA'].astype(float)\n",
    "df_cliped2['TOCANTINS'] = df_cliped2['TOCANTINS'].astype(float)\n",
    "\n",
    "df_cliped2.hist(bins=50, figsize=(20,15))\n",
    "plt.savefig(\"attribute_histogram_plots_cliped\")\n",
    "plt.show()"
   ]
  },
  {
   "cell_type": "code",
   "execution_count": 100,
   "metadata": {},
   "outputs": [],
   "source": [
    "#Criação das variáveis \"X\" e \"y\n",
    "y2 = df_cliped2[\"riscofogo\"].values # só a ultima\n",
    "X2 = df_cliped2.drop([\"riscofogo\"], axis=1).values # todas as colunas menos a ultima\n",
    "\n",
    "\n",
    "#Divisão da base de dados entre teste e treinamento\n",
    "X_train2, X_test2, y_train2, y_test2 = train_test_split(X2, y2, test_size=0.2, random_state=0)"
   ]
  },
  {
   "cell_type": "code",
   "execution_count": 101,
   "metadata": {},
   "outputs": [],
   "source": [
    "#X_train[:10]"
   ]
  },
  {
   "cell_type": "code",
   "execution_count": 102,
   "metadata": {},
   "outputs": [
    {
     "name": "stdout",
     "output_type": "stream",
     "text": [
      "Mean Absolute Error: 0.2632073294463366\n",
      "Mean Squared Error: 0.09315515804961567\n",
      "Root Mean Squared Error: 0.3052132992672758\n"
     ]
    }
   ],
   "source": [
    "#Criação e trinamento do modelo 1\n",
    "model = LinearRegression()\n",
    "model.fit(X_train2, y_train2)\n",
    "\n",
    "#Previsões utilizando a base de teste\n",
    "y_pred = model.predict(X_test2)\n",
    "#print(\"Acurácia de previsão: \", accuracy_score(y_test, y_pred))\n",
    "#pd.DataFrame({'Actual': y_test, 'Predicted': y_pred})\n",
    "#print(y_pred_model1)\n",
    "\n",
    "#Métricas de avaliação do Modelo 1 - Cálculo do erro\n",
    "print('Mean Absolute Error:', metrics.mean_absolute_error(y_test2, y_pred))\n",
    "print('Mean Squared Error:', metrics.mean_squared_error(y_test2, y_pred))\n",
    "print('Root Mean Squared Error:', np.sqrt(metrics.mean_squared_error(y_test2, y_pred)))"
   ]
  },
  {
   "cell_type": "code",
   "execution_count": 117,
   "metadata": {},
   "outputs": [
    {
     "name": "stdout",
     "output_type": "stream",
     "text": [
      "Mean Absolute Error: 0.07929080970011824\n",
      "Mean Squared Error: 0.01896406941671351\n",
      "Root Mean Squared Error: 0.1377100919203582\n"
     ]
    }
   ],
   "source": [
    "#Criação e trinamento do modelo 2\n",
    "modelm = RandomForestRegressor(random_state=42)\n",
    "modelm.fit(X_train2, y_train2)\n",
    "\n",
    "#Previsões utilizando a base de teste\n",
    "y_predm = modelm.predict(X_test2)\n",
    "\n",
    "#Métricas de avaliação do Modelo 2\n",
    "print('Mean Absolute Error:', metrics.mean_absolute_error(y_test2, y_predm))\n",
    "print('Mean Squared Error:', metrics.mean_squared_error(y_test2, y_predm))\n",
    "print('Root Mean Squared Error:', np.sqrt(metrics.mean_squared_error(y_test2, y_predm)))"
   ]
  },
  {
   "cell_type": "code",
   "execution_count": 104,
   "metadata": {},
   "outputs": [
    {
     "name": "stdout",
     "output_type": "stream",
     "text": [
      "Mean Absolute Error: 0.1519072582690306\n",
      "Mean Squared Error: 0.04235869466892628\n",
      "Root Mean Squared Error: 0.20581228017036854\n"
     ]
    }
   ],
   "source": [
    "#Criação e trinamento do modelo 3\n",
    "model = ensemble.GradientBoostingRegressor()\n",
    "model.fit(X_train2, y_train2)\n",
    "\n",
    "#Previsões utilizando a base de teste\n",
    "y_pred = model.predict(X_test2)\n",
    "\n",
    "#Métricas de avaliação do Modelo 3\n",
    "print('Mean Absolute Error:', metrics.mean_absolute_error(y_test2, y_pred))\n",
    "print('Mean Squared Error:', metrics.mean_squared_error(y_test2, y_pred))\n",
    "print('Root Mean Squared Error:', np.sqrt(metrics.mean_squared_error(y_test2, y_pred)))"
   ]
  },
  {
   "cell_type": "code",
   "execution_count": 105,
   "metadata": {},
   "outputs": [
    {
     "data": {
      "image/png": "[encoded data removed]",
      "text/plain": [
       "<Figure size 1280x640 with 1 Axes>"
      ]
     },
     "metadata": {
      "needs_background": "light"
     },
     "output_type": "display_data"
    }
   ],
   "source": [
    "#Plot MODELO 2 - RandomForestRegressor - Experimento 2\n",
    "\n",
    "row_min = 500\n",
    "row_max = 600\n",
    "df_real = pd.DataFrame({\n",
    "    'datahora': X_test2[row_min:row_max,0],\n",
    "    'riscofogo': y_test2[row_min:row_max]\n",
    "    }).sort_values(by=['datahora'])\n",
    "\n",
    "df_pred = pd.DataFrame({\n",
    "    'datahora': X_test2[row_min:row_max,0],\n",
    "    'riscofogo': y_predm[row_min:row_max]\n",
    "    }).sort_values(by=['datahora'])\n",
    "\n",
    "\n",
    "from matplotlib.pyplot import figure\n",
    "figure(figsize=(16, 8)\n",
    "       , dpi=80)\n",
    "\n",
    "plt.plot(df_real[\"datahora\"], df_real[\"riscofogo\"], label = \"real data\")\n",
    "plt.plot(df_pred[\"datahora\"], df_pred[\"riscofogo\"], label = \"predicted data\")\n",
    "plt.title('data vs risco fogo')\n",
    "plt.xlabel('data')\n",
    "plt.ylabel('risco fogo')\n",
    "plt.show()"
   ]
  },
  {
   "cell_type": "code",
   "execution_count": 109,
   "metadata": {},
   "outputs": [
    {
     "name": "stdout",
     "output_type": "stream",
     "text": [
      "Feature: 0, Score: 0.11693\n",
      "Feature: 1, Score: 0.46439\n",
      "Feature: 2, Score: 0.13925\n",
      "Feature: 3, Score: 0.11968\n",
      "Feature: 4, Score: 0.10477\n",
      "Feature: 5, Score: 0.03379\n",
      "Feature: 6, Score: 0.00539\n",
      "Feature: 7, Score: 0.00125\n",
      "Feature: 8, Score: 0.00104\n",
      "Feature: 9, Score: 0.00043\n",
      "Feature: 10, Score: 0.00262\n",
      "Feature: 11, Score: 0.00055\n",
      "Feature: 12, Score: 0.00974\n",
      "Feature: 13, Score: 0.00018\n"
     ]
    },
    {
     "data": {
      "image/png": "[encoded data removed]",
      "text/plain": [
       "<Figure size 576x396 with 1 Axes>"
      ]
     },
     "metadata": {},
     "output_type": "display_data"
    }
   ],
   "source": [
    "# Get importance\n",
    "importance = modelm.feature_importances_\n",
    "# summarize feature importance\n",
    "for i,v in enumerate(importance):\n",
    "\tprint('Feature: %0d, Score: %.5f' % (i,v))\n",
    "# plot feature importance\n",
    "plt.bar([x for x in range(len(importance))], importance)\n",
    "plt.show()"
   ]
  },
  {
   "cell_type": "markdown",
   "metadata": {},
   "source": [
    "# 5. Resultados"
   ]
  },
  {
   "cell_type": "markdown",
   "metadata": {},
   "source": [
    "Neste projeto implementamos três modelos de machine learning com o propósito de prever risco de fogo no Brasil, no bioma Amazônia. Após os treinos e testes dos modelos conseguimos avaliar cada modelo duas vezes em dois experimentos realizados. Em um primeiro experimento escolhemos apenas um atributo, “riscofogo” e “datahora”, e após a avaliação dos modelos, chegamos à conclusão de que o modelo “Gradient Boosting Regressor” teve um melhor desempenho neste primeiro experimento, porém o resultado não foi tão bom quanto deveria. \n",
    "\n",
    "Percebendo que dava para melhorar, realizamos um segundo experimento, mas dessa vez foi fundamental ter selecionado mais atributos e então conseguimos uma melhora significativa e perceptiva. \n",
    "\n",
    "Concluiu-se que o modelo de Regressão Random Forest no segundo experimento apresentou uma menor taxa de erro, obtendo o melhor resultado nas métricas, e uma capacidade de prever os resultados semelhantes aos dados reais como foi possível ver em um gráfico mostrado mais acima.\n",
    "\n",
    "Por fim plotamos um gráfico de feature importance e pudemos observar que a segunda feature, a feature 1 (diasemchuva) mostrou ser mais relevante, e isso só pode ser percebida após a realização do segundo experimento. "
   ]
  },
  {
   "cell_type": "code",
   "execution_count": 120,
   "metadata": {},
   "outputs": [],
   "source": [
    "from sklearn.model_selection import learning_curve\n",
    "train_sizes = list(range(1, 25))\n",
    "\n",
    "train_sizes, train_scores, validation_scores = learning_curve(\n",
    "estimator = modelm,\n",
    "X = X_train2,\n",
    "y = y_train2, train_sizes = train_sizes, cv = 5,\n",
    "scoring = 'neg_mean_squared_error')\n",
    "\n",
    "#print('Training scores:\\n\\n', train_scores)\n",
    "#print('\\n', '-' * 70) # separator to make the output easy to read\n",
    "#print('\\nValidation scores:\\n\\n', validation_scores)\n",
    "\n",
    "train_scores_mean = -train_scores.mean(axis = 1)\n",
    "validation_scores_mean = -validation_scores.mean(axis = 1)\n",
    "#print('Mean', pd.Series(train_scores_mean, index = train_sizes))\n",
    "#print('\\n', '-' * 20) # separator\n",
    "#print('\\nMean validation scores\\n\\n',pd.Series(validation_scores_mean, index = train_sizes))\n",
    "#Mean training scores"
   ]
  },
  {
   "cell_type": "code",
   "execution_count": 121,
   "metadata": {},
   "outputs": [
    {
     "data": {
      "text/plain": [
       "<matplotlib.legend.Legend at 0x22800075940>"
      ]
     },
     "execution_count": 121,
     "metadata": {},
     "output_type": "execute_result"
    },
    {
     "data": {
      "image/png": "[encoded data removed]",
      "text/plain": [
       "<Figure size 576x396 with 1 Axes>"
      ]
     },
     "metadata": {},
     "output_type": "display_data"
    }
   ],
   "source": [
    "#Curvas de Aprendizado para o Modelo RandomForestRegressor\n",
    "\n",
    "plt.style.use('seaborn')\n",
    "plt.plot(train_sizes, train_scores_mean, label = 'Training error')\n",
    "plt.plot(train_sizes, validation_scores_mean, label = 'Validation error')\n",
    "plt.ylabel('MSE', fontsize = 14)\n",
    "plt.xlabel('Training set size', fontsize = 14)\n",
    "plt.title('Curvas de aprendizado para nosso modelo RandomForestRegressor', fontsize = 18)\n",
    "plt.legend()\n",
    "#plt.ylim(0,40)"
   ]
  }
 ],
 "metadata": {
  "kernelspec": {
   "display_name": "Python 3 (ipykernel)",
   "language": "python",
   "name": "python3"
  },
  "language_info": {
   "codemirror_mode": {
    "name": "ipython",
    "version": 3
   },
   "file_extension": ".py",
   "mimetype": "text/x-python",
   "name": "python",
   "nbconvert_exporter": "python",
   "pygments_lexer": "ipython3",
   "version": "3.8.13"
  }
 },
 "nbformat": 4,
 "nbformat_minor": 4
}
